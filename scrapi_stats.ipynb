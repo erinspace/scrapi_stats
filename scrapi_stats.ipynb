{
 "metadata": {
  "name": "",
  "signature": "sha256:531adf6d7872687a919f6b9ec4b6b17e6f0d5e5e67b78e8b3a1a115e5bbbf2c0"
 },
 "nbformat": 3,
 "nbformat_minor": 0,
 "worksheets": [
  {
   "cells": [
    {
     "cell_type": "markdown",
     "metadata": {},
     "source": [
      "#SHARE Results\n",
      "----\n",
      "Here are some working examples of how to query the current scrAPI database for metrics of results coming through the SHARE Notifiation Service.\n",
      "\n",
      "These particular queries are just examples, and the data is open for anyone to use, so feel free to make your own and experiment!\n",
      "\n",
      "----\n"
     ]
    },
    {
     "cell_type": "markdown",
     "metadata": {},
     "source": [
      "### Service Names for Reference\n",
      "----\n",
      "Each provider harvested from uses a shortened name for its source. Here's a guide to which short names refer to which services\n"
     ]
    },
    {
     "cell_type": "markdown",
     "metadata": {},
     "source": [
      "<table>\n",
      "    <tr>\n",
      "        <td> arxiv_oai </td>\n",
      "        <td> ArXiv </td>\n",
      "    </tr>\n",
      "    <tr>\n",
      "        <td> calpoly </td>\n",
      "        <td> Digital Commons at Cal Poly </td>\n",
      "    </tr>\n",
      "    <tr>\n",
      "        <td> cmu </td>\n",
      "        <td> Carnegie Mellon University Research Showcase </td>\n",
      "    </tr>\n",
      "    <tr>\n",
      "        <td> clinicaltrials </td>\n",
      "        <td> ClinicalTrials.gov </td>\n",
      "    </tr>    \n",
      "    <tr>\n",
      "        <td> crossref </td>\n",
      "        <td> CrossRef </td>\n",
      "    </tr>\n",
      "    <tr>\n",
      "        <td> doepages </td>\n",
      "        <td> Department of Energy Pages </td>\n",
      "    </tr>\n",
      "\n",
      "    <tr>\n",
      "        <td> columbia  </td>\n",
      "        <td> Columbia Adacemic Commons </td>\n",
      "    </tr>\n",
      "    <tr>\n",
      "        <td> dataone </td>\n",
      "        <td> DataONE: Data Observation Network for Earth </td>\n",
      "    </tr>\n",
      "    <tr>\n",
      "        <td> figshare </td>\n",
      "        <td> figshare </td>\n",
      "    </tr>\n",
      "    <tr>\n",
      "        <td> mit </td>\n",
      "        <td> DSpace@MIT </td>\n",
      "    </tr>\n",
      "    <tr>\n",
      "        <td> opensiuc </td>\n",
      "        <td> OpenSIUC at the Southern Illinois University Carbondale </td>\n",
      "    </tr>\n",
      "    <tr>\n",
      "        <td> plos </td>\n",
      "        <td> Public Library Of Science </td>\n",
      "    </tr>\n",
      "    <tr>\n",
      "        <td> spdataverse </td>\n",
      "        <td> Scholars Portal Dataverse </td>\n",
      "    </tr>\n",
      "    <tr>\n",
      "        <td> scitech </td>\n",
      "        <td> SciTech Connect </td>\n",
      "    </tr>\n",
      "    <tr>\n",
      "        <td> stcloud </td>\n",
      "        <td> theRepository at St. Cloud State </td>\n",
      "    </tr>\n",
      "    <tr>\n",
      "        <td> texasstate </td>\n",
      "        <td> DSpace at Texas State University </td>\n",
      "    </tr>\n",
      "    <tr>\n",
      "        <td> trinity </td>\n",
      "        <td> Digital Commons@Trinity </td>\n",
      "    </tr>\n",
      "    <tr>\n",
      "        <td> uceschol </td>\n",
      "        <td> California Digital Library eScholarship System </td>\n",
      "    </tr>\n",
      "    <tr>\n",
      "        <td> uiucideals </td>\n",
      "        <td> University of Illinois at Urbana-Champaign Illinois Digital Enviornment for Access to Learning and Scholarship </td>\n",
      "    </tr>\n",
      "    <tr>\n",
      "        <td> upenn </td>\n",
      "        <td> University of Pennsylvania Scholarly Commons </td>\n",
      "    </tr>\n",
      "    <tr>\n",
      "        <td> utaustin </td>\n",
      "        <td> University of Texas Digital Repository </td>\n",
      "    </tr>\n",
      "    <tr>\n",
      "        <td> uwdspace </td>\n",
      "        <td> ResearchWorks at the University of Washington </td>\n",
      "    </tr>\n",
      "    <tr>\n",
      "        <td> vtechworks </td>\n",
      "        <td> Virginia Tech VTechWorks </td>\n",
      "    </tr>\n",
      "    <tr>\n",
      "        <td> wayne </td>\n",
      "        <td> DigitalCommons@WayneState </td>\n",
      "    </tr>\n",
      "    \n",
      "</table>"
     ]
    },
    {
     "cell_type": "markdown",
     "metadata": {},
     "source": [
      "##Setup: "
     ]
    },
    {
     "cell_type": "code",
     "collapsed": false,
     "input": [
      "from __future__ import division\n",
      "\n",
      "import json\n",
      "import requests\n",
      "\n",
      "import numpy as np\n",
      "import matplotlib.pyplot as plt\n",
      "\n",
      "from collections import defaultdict\n",
      "\n",
      "%matplotlib inline"
     ],
     "language": "python",
     "metadata": {},
     "outputs": [],
     "prompt_number": 197
    },
    {
     "cell_type": "code",
     "collapsed": false,
     "input": [
      "# SHARE-dev settings\n",
      "OSF_APP_URL = 'https://share-dev.osf.io/api/v1/app/6qajn/?raw=True'"
     ],
     "language": "python",
     "metadata": {},
     "outputs": [],
     "prompt_number": 198
    },
    {
     "cell_type": "code",
     "collapsed": false,
     "input": [
      "# Localhost settings - for testing\n",
      "# OSF_APP_URL = 'http://localhost:5000/api/v1/app/kb7ae/?return_raw=True'"
     ],
     "language": "python",
     "metadata": {},
     "outputs": [],
     "prompt_number": 199
    },
    {
     "cell_type": "markdown",
     "metadata": {},
     "source": [
      "## Query Setup"
     ]
    },
    {
     "cell_type": "code",
     "collapsed": false,
     "input": [
      "def query_osf(query):\n",
      "    headers = {'Content-Type': 'application/json'}\n",
      "    data = json.dumps(query)\n",
      "    return requests.post(OSF_APP_URL, headers=headers, data=data, verify=False).json()"
     ],
     "language": "python",
     "metadata": {},
     "outputs": [],
     "prompt_number": 200
    },
    {
     "cell_type": "code",
     "collapsed": false,
     "input": [
      "def search(agg_type, field=None, all_results=True, exclude_terms=False):\n",
      "    if agg_type == 'field':\n",
      "        query = field_aggregation_query(field, all_results)\n",
      "    elif agg_type == 'missing':\n",
      "        query = source_missing_query(field)\n",
      "    elif agg_type == 'common_properties':\n",
      "        query = common_properties_query(field)\n",
      "    else: \n",
      "        print(\"Not a valid agg query!\")\n",
      "        return None\n",
      "    return query_osf(query)"
     ],
     "language": "python",
     "metadata": {},
     "outputs": [],
     "prompt_number": 201
    },
    {
     "cell_type": "code",
     "collapsed": false,
     "input": [
      "def field_aggregation_query(field, all_results):\n",
      "    ''' Use this basic aggregation query to find all\n",
      "    of the results from a particular field. Perhaps\n",
      "    best used for sources or tag counts '''\n",
      "    \n",
      "    return {\n",
      "        \"size\" : 0,\n",
      "        \"aggs\": {\n",
      "            \"sources\" : {\n",
      "                \"terms\" : {\n",
      "                    \"field\": field, \n",
      "                    \"size\" : return_all(all_results),\n",
      "                    \"exclude\" : \"of|and|or\"\n",
      "                }\n",
      "            }\n",
      "        }\n",
      "    }"
     ],
     "language": "python",
     "metadata": {},
     "outputs": [],
     "prompt_number": 202
    },
    {
     "cell_type": "code",
     "collapsed": false,
     "input": [
      "def source_missing_query(missing_field):\n",
      "    ''' Use this query to find how many documents from \n",
      "    a particular source are missing an entry for any field '''\n",
      "    \n",
      "    return {\n",
      "        \"size\": 0,\n",
      "            \"aggs\": {\n",
      "            \"sourceAggregation\": {\n",
      "                \"filter\" : {\n",
      "                    \"missing\" : {\"field\" : missing_field}\n",
      "                },\n",
      "                \"aggs\" : {\n",
      "                    \"sources\" : {\n",
      "                        \"terms\" : {\n",
      "                            \"field\": \"source\",\n",
      "                            \"size\": 0\n",
      "                        }\n",
      "                    }\n",
      "                }\n",
      "            }\n",
      "        }\n",
      "    }"
     ],
     "language": "python",
     "metadata": {},
     "outputs": [],
     "prompt_number": 203
    },
    {
     "cell_type": "code",
     "collapsed": false,
     "input": [
      "def common_properties_query(field):\n",
      "    ''' This is totally wrong - try again with examples\n",
      "    from: https://github.com/elasticsearch/elasticsearch/issues/5789\n",
      "    and http://www.elasticsearch.org/guide/en/elasticsearch/reference/current/\n",
      "    mapping-field-names-field.html#mapping-field-names-field\n",
      "    '''\n",
      "    return {\n",
      "        \"size\": 0,\n",
      "        \"query\": {\n",
      "            \"terms\": {\n",
      "                \"field\": \"_field_names\"\n",
      "            }\n",
      "        }\n",
      "    }"
     ],
     "language": "python",
     "metadata": {},
     "outputs": [],
     "prompt_number": 204
    },
    {
     "cell_type": "code",
     "collapsed": false,
     "input": [
      "# search('common_properties')"
     ],
     "language": "python",
     "metadata": {},
     "outputs": [],
     "prompt_number": 205
    },
    {
     "cell_type": "code",
     "collapsed": false,
     "input": [
      "def return_all(all_results):\n",
      "    ''' used to determine if you want \n",
      "    to show all of the results, or just \n",
      "    the top 10 '''\n",
      "    \n",
      "    if all_results:\n",
      "        return 0\n",
      "    else:\n",
      "        return 10\n",
      "    "
     ],
     "language": "python",
     "metadata": {},
     "outputs": [],
     "prompt_number": 206
    },
    {
     "cell_type": "markdown",
     "metadata": {},
     "source": [
      "## Query Cleanup"
     ]
    },
    {
     "cell_type": "code",
     "collapsed": false,
     "input": [
      "def full_results_to_list(full_elastic_results):\n",
      "    ''' takes the raw elastic search results, and \n",
      "    returns a simplified version with just a list of \n",
      "    all the doc counts and their values '''\n",
      "    \n",
      "    try:\n",
      "        return full_elastic_results['aggregations']['sources']['buckets']\n",
      "    except KeyError:\n",
      "        return full_elastic_results['aggregations']['sourceAggregation']['sources']['buckets']"
     ],
     "language": "python",
     "metadata": {},
     "outputs": [],
     "prompt_number": 207
    },
    {
     "cell_type": "code",
     "collapsed": false,
     "input": [
      "def extract_values_and_labels(elastic_results):\n",
      "    ''' Takes a list of dictionaries of the results of\n",
      "    an elasticsearch aggregation, and converts them into\n",
      "    two lists - of values, and labels - to be used in \n",
      "    plotting later.\n",
      "    \n",
      "    Returns a dictionary with the lists of values and labels\n",
      "    '''\n",
      "    labels = []\n",
      "    values = []\n",
      "    for item in elastic_results:\n",
      "        labels.append(item['key'])\n",
      "        values.append(item['doc_count'])\n",
      "    \n",
      "    return {'values': values, 'labels':labels}"
     ],
     "language": "python",
     "metadata": {},
     "outputs": [],
     "prompt_number": 208
    },
    {
     "cell_type": "markdown",
     "metadata": {},
     "source": [
      "## Functions for Making Graphs!"
     ]
    },
    {
     "cell_type": "code",
     "collapsed": false,
     "input": [
      "def create_bar_graph(elastic_results,  x_label, title, field_for_title=''):\n",
      "    ''' takes a list of elastic results, and \n",
      "    returns a bar graph of the doc counts'''\n",
      "    \n",
      "    values_labels = extract_values_and_labels(elastic_results)\n",
      "    values = values_labels['values']\n",
      "    labels = values_labels['labels']\n",
      "    \n",
      "    length = len(values)\n",
      "    index = np.arange(len(values))\n",
      "    width = 0.35 \n",
      "    \n",
      "    bar = plt.bar(index, values)\n",
      "    \n",
      "    plt.xticks(index+width/2, labels, rotation='vertical')\n",
      "    plt.xlabel(x_label)\n",
      "    plt.ylabel('Document Count')\n",
      "    plt.title(title + field_for_title)"
     ],
     "language": "python",
     "metadata": {},
     "outputs": [],
     "prompt_number": 209
    },
    {
     "cell_type": "code",
     "collapsed": false,
     "input": [
      "def create_pie_chart(elastic_results, title, field_for_title=''):\n",
      "    ''' takes a list of elastic results, and \n",
      "    returns a bar graph of the doc counts.\n",
      "    Looks very messy at the moment - need to fix labels'''\n",
      "    \n",
      "    values_labels = extract_values_and_labels(elastic_results)\n",
      "    values = values_labels['values']\n",
      "    labels = values_labels['labels']\n",
      "    \n",
      "    pie = plt.pie(values, labels=labels)\n",
      "    plt.title(title + field_for_title)"
     ],
     "language": "python",
     "metadata": {},
     "outputs": [],
     "prompt_number": 210
    },
    {
     "cell_type": "markdown",
     "metadata": {},
     "source": [
      "## Exploring the SHARE Data"
     ]
    },
    {
     "cell_type": "markdown",
     "metadata": {},
     "source": [
      "###Documents per source\n",
      "----\n",
      "Here are some examples of how to use the above queries to get the number of documents returned by each source"
     ]
    },
    {
     "cell_type": "code",
     "collapsed": false,
     "input": [
      "source_stats_search = search(agg_type='field', field='source')"
     ],
     "language": "python",
     "metadata": {},
     "outputs": [],
     "prompt_number": 211
    },
    {
     "cell_type": "code",
     "collapsed": false,
     "input": [
      "source_stats_search"
     ],
     "language": "python",
     "metadata": {},
     "outputs": [
      {
       "metadata": {},
       "output_type": "pyout",
       "prompt_number": 212,
       "text": [
        "{u'_shards': {u'failed': 0, u'successful': 5, u'total': 5},\n",
        " u'aggregations': {u'sources': {u'buckets': [{u'doc_count': 49634,\n",
        "     u'key': u'arxiv_oai'},\n",
        "    {u'doc_count': 39283, u'key': u'crossref'},\n",
        "    {u'doc_count': 18456, u'key': u'scitech'},\n",
        "    {u'doc_count': 17022, u'key': u'dataone'},\n",
        "    {u'doc_count': 8341, u'key': u'clinicaltrials'},\n",
        "    {u'doc_count': 7876, u'key': u'figshare'},\n",
        "    {u'doc_count': 6351, u'key': u'plos'},\n",
        "    {u'doc_count': 3022, u'key': u'uwdspace'},\n",
        "    {u'doc_count': 1972, u'key': u'mit'},\n",
        "    {u'doc_count': 1452, u'key': u'upenn'},\n",
        "    {u'doc_count': 854, u'key': u'uceschol'},\n",
        "    {u'doc_count': 633, u'key': u'vtechworks'},\n",
        "    {u'doc_count': 362, u'key': u'opensiuc'},\n",
        "    {u'doc_count': 349, u'key': u'columbia'},\n",
        "    {u'doc_count': 283, u'key': u'calpoly'},\n",
        "    {u'doc_count': 278, u'key': u'cmu'},\n",
        "    {u'doc_count': 273, u'key': u'wayne'},\n",
        "    {u'doc_count': 66, u'key': u'doepages'},\n",
        "    {u'doc_count': 32, u'key': u'trinity'},\n",
        "    {u'doc_count': 14, u'key': u'spdataverse'},\n",
        "    {u'doc_count': 9, u'key': u'utaustin'},\n",
        "    {u'doc_count': 3, u'key': u'pushtest'},\n",
        "    {u'doc_count': 3, u'key': u'texasstate'},\n",
        "    {u'doc_count': 2, u'key': u'stcloud'}]}},\n",
        " u'hits': {u'hits': [], u'max_score': 0.0, u'total': 254157},\n",
        " u'timed_out': False,\n",
        " u'took': 13}"
       ]
      }
     ],
     "prompt_number": 212
    },
    {
     "cell_type": "code",
     "collapsed": false,
     "input": [
      "source_statistics = full_results_to_list(source_stats_search)"
     ],
     "language": "python",
     "metadata": {},
     "outputs": [],
     "prompt_number": 213
    },
    {
     "cell_type": "code",
     "collapsed": false,
     "input": [
      "all_stats = []\n",
      "for item in source_statistics:\n",
      "    source = {}\n",
      "    source['key'] = item['key']\n",
      "    source['full_count'] = item['doc_count']\n",
      "    all_stats.append(source)"
     ],
     "language": "python",
     "metadata": {},
     "outputs": [],
     "prompt_number": 214
    },
    {
     "cell_type": "code",
     "collapsed": false,
     "input": [
      "all_stats"
     ],
     "language": "python",
     "metadata": {},
     "outputs": [
      {
       "metadata": {},
       "output_type": "pyout",
       "prompt_number": 215,
       "text": [
        "[{'full_count': 49634, 'key': u'arxiv_oai'},\n",
        " {'full_count': 39283, 'key': u'crossref'},\n",
        " {'full_count': 18456, 'key': u'scitech'},\n",
        " {'full_count': 17022, 'key': u'dataone'},\n",
        " {'full_count': 8341, 'key': u'clinicaltrials'},\n",
        " {'full_count': 7876, 'key': u'figshare'},\n",
        " {'full_count': 6351, 'key': u'plos'},\n",
        " {'full_count': 3022, 'key': u'uwdspace'},\n",
        " {'full_count': 1972, 'key': u'mit'},\n",
        " {'full_count': 1452, 'key': u'upenn'},\n",
        " {'full_count': 854, 'key': u'uceschol'},\n",
        " {'full_count': 633, 'key': u'vtechworks'},\n",
        " {'full_count': 362, 'key': u'opensiuc'},\n",
        " {'full_count': 349, 'key': u'columbia'},\n",
        " {'full_count': 283, 'key': u'calpoly'},\n",
        " {'full_count': 278, 'key': u'cmu'},\n",
        " {'full_count': 273, 'key': u'wayne'},\n",
        " {'full_count': 66, 'key': u'doepages'},\n",
        " {'full_count': 32, 'key': u'trinity'},\n",
        " {'full_count': 14, 'key': u'spdataverse'},\n",
        " {'full_count': 9, 'key': u'utaustin'},\n",
        " {'full_count': 3, 'key': u'pushtest'},\n",
        " {'full_count': 3, 'key': u'texasstate'},\n",
        " {'full_count': 2, 'key': u'stcloud'}]"
       ]
      }
     ],
     "prompt_number": 215
    },
    {
     "cell_type": "code",
     "collapsed": false,
     "input": [
      "for source in source_statistics:\n",
      "    print source['key'] + ', ' + str(source['doc_count'])"
     ],
     "language": "python",
     "metadata": {},
     "outputs": [
      {
       "output_type": "stream",
       "stream": "stdout",
       "text": [
        "arxiv_oai, 49634\n",
        "crossref, 39283\n",
        "scitech, 18456\n",
        "dataone, 17022\n",
        "clinicaltrials, 8341\n",
        "figshare, 7876\n",
        "plos, 6351\n",
        "uwdspace, 3022\n",
        "mit, 1972\n",
        "upenn, 1452\n",
        "uceschol, 854\n",
        "vtechworks, 633\n",
        "opensiuc, 362\n",
        "columbia, 349\n",
        "calpoly, 283\n",
        "cmu, 278\n",
        "wayne, 273\n",
        "doepages, 66\n",
        "trinity, 32\n",
        "spdataverse, 14\n",
        "utaustin, 9\n",
        "pushtest, 3\n",
        "texasstate, 3\n",
        "stcloud, 2\n"
       ]
      }
     ],
     "prompt_number": 216
    },
    {
     "cell_type": "code",
     "collapsed": false,
     "input": [
      "# print(json.dumps(source_statistics, indent=4))"
     ],
     "language": "python",
     "metadata": {},
     "outputs": [],
     "prompt_number": 217
    },
    {
     "cell_type": "code",
     "collapsed": false,
     "input": [
      "create_bar_graph(source_statistics, title=\"Documents Per Source\", x_label='Source')"
     ],
     "language": "python",
     "metadata": {},
     "outputs": [
      {
       "metadata": {},
       "output_type": "display_data",
       "png": "[encoded data removed]",
       "text": [
        "<matplotlib.figure.Figure at 0x10bb27bd0>"
       ]
      }
     ],
     "prompt_number": 218
    },
    {
     "cell_type": "code",
     "collapsed": false,
     "input": [
      "''' The labels on this need some serious fixing!!\n",
      "'''\n",
      "\n",
      "create_pie_chart(source_statistics, \"Documents Per Source\")"
     ],
     "language": "python",
     "metadata": {},
     "outputs": [
      {
       "metadata": {},
       "output_type": "display_data",
       "png": "[encoded data removed]",
       "text": [
        "<matplotlib.figure.Figure at 0x10ba22c90>"
       ]
      }
     ],
     "prompt_number": 219
    },
    {
     "cell_type": "markdown",
     "metadata": {},
     "source": [
      "### Number of missing fields per source\n",
      "----\n",
      "These queries will find the sources that are missing a certain field. \n",
      "The two examples we'll give here are title and email "
     ]
    },
    {
     "cell_type": "code",
     "collapsed": false,
     "input": [
      "missing_by_search = search('missing', field='title')"
     ],
     "language": "python",
     "metadata": {},
     "outputs": [],
     "prompt_number": 220
    },
    {
     "cell_type": "code",
     "collapsed": false,
     "input": [
      "missing_by = full_results_to_list(missing_by_search)"
     ],
     "language": "python",
     "metadata": {},
     "outputs": [],
     "prompt_number": 221
    },
    {
     "cell_type": "code",
     "collapsed": false,
     "input": [
      "for source in missing_by:\n",
      "    print source['key'] + ', ' + str(source['doc_count'])"
     ],
     "language": "python",
     "metadata": {},
     "outputs": [
      {
       "output_type": "stream",
       "stream": "stdout",
       "text": [
        "crossref, 240\n",
        "spdataverse, 3\n",
        "uceschol, 1\n"
       ]
      }
     ],
     "prompt_number": 222
    },
    {
     "cell_type": "code",
     "collapsed": false,
     "input": [
      "d = defaultdict(dict)\n",
      "for source in (all_stats, missing_by):\n",
      "    for elem in source:\n",
      "        d[elem['key']].update(elem)\n",
      "missing_stats = d.values()\n",
      "\n",
      "missing_stats"
     ],
     "language": "python",
     "metadata": {},
     "outputs": [
      {
       "metadata": {},
       "output_type": "pyout",
       "prompt_number": 223,
       "text": [
        "[{'full_count': 66, 'key': u'doepages'},\n",
        " {'full_count': 3022, 'key': u'uwdspace'},\n",
        " {'full_count': 633, 'key': u'vtechworks'},\n",
        " {'full_count': 362, 'key': u'opensiuc'},\n",
        " {'full_count': 6351, 'key': u'plos'},\n",
        " {'full_count': 3, 'key': u'pushtest'},\n",
        " {'full_count': 3, 'key': u'texasstate'},\n",
        " {'full_count': 9, 'key': u'utaustin'},\n",
        " {'full_count': 273, 'key': u'wayne'},\n",
        " {'full_count': 18456, 'key': u'scitech'},\n",
        " {'full_count': 1972, 'key': u'mit'},\n",
        " {'full_count': 32, 'key': u'trinity'},\n",
        " {'full_count': 2, 'key': u'stcloud'},\n",
        " {'full_count': 349, 'key': u'columbia'},\n",
        " {'full_count': 7876, 'key': u'figshare'},\n",
        " {'full_count': 49634, 'key': u'arxiv_oai'},\n",
        " {u'doc_count': 240, 'full_count': 39283, 'key': u'crossref'},\n",
        " {u'doc_count': 1, 'full_count': 854, 'key': u'uceschol'},\n",
        " {'full_count': 1452, 'key': u'upenn'},\n",
        " {'full_count': 8341, 'key': u'clinicaltrials'},\n",
        " {'full_count': 17022, 'key': u'dataone'},\n",
        " {'full_count': 283, 'key': u'calpoly'},\n",
        " {'full_count': 278, 'key': u'cmu'},\n",
        " {u'doc_count': 3, 'full_count': 14, 'key': u'spdataverse'}]"
       ]
      }
     ],
     "prompt_number": 223
    },
    {
     "cell_type": "code",
     "collapsed": false,
     "input": [
      "for item in missing_stats:\n",
      "    print item['key'] + ': ' + str((item.get('doc_count', 0)/item['full_count'])*100)\n",
      "    "
     ],
     "language": "python",
     "metadata": {},
     "outputs": [
      {
       "output_type": "stream",
       "stream": "stdout",
       "text": [
        "doepages: 0.0\n",
        "uwdspace: 0.0\n",
        "vtechworks: 0.0\n",
        "opensiuc: 0.0\n",
        "plos: 0.0\n",
        "pushtest: 0.0\n",
        "texasstate: 0.0\n",
        "utaustin: 0.0\n",
        "wayne: 0.0\n",
        "scitech: 0.0\n",
        "mit: 0.0\n",
        "trinity: 0.0\n",
        "stcloud: 0.0\n",
        "columbia: 0.0\n",
        "figshare: 0.0\n",
        "arxiv_oai: 0.0\n",
        "crossref: 0.61095130209\n",
        "uceschol: 0.117096018735\n",
        "upenn: 0.0\n",
        "clinicaltrials: 0.0\n",
        "dataone: 0.0\n",
        "calpoly: 0.0\n",
        "cmu: 0.0\n",
        "spdataverse: 21.4285714286\n"
       ]
      }
     ],
     "prompt_number": 224
    },
    {
     "cell_type": "code",
     "collapsed": false,
     "input": [
      "create_bar_graph(missing_by, title=\"Documents Missing the Field: \", field_for_title='Title', x_label=\"Source\")"
     ],
     "language": "python",
     "metadata": {},
     "outputs": [
      {
       "metadata": {},
       "output_type": "display_data",
       "png": "[encoded data removed]",
       "text": [
        "<matplotlib.figure.Figure at 0x10bc47950>"
       ]
      }
     ],
     "prompt_number": 225
    },
    {
     "cell_type": "code",
     "collapsed": false,
     "input": [
      "missing_by_email_search = search('missing', field='email')"
     ],
     "language": "python",
     "metadata": {},
     "outputs": [],
     "prompt_number": 226
    },
    {
     "cell_type": "code",
     "collapsed": false,
     "input": [
      "missing_by_email = full_results_to_list(missing_by_email_search)"
     ],
     "language": "python",
     "metadata": {},
     "outputs": [],
     "prompt_number": 227
    },
    {
     "cell_type": "code",
     "collapsed": false,
     "input": [
      "# print(json.dumps(missing_by_email, indent=4))"
     ],
     "language": "python",
     "metadata": {},
     "outputs": [],
     "prompt_number": 228
    },
    {
     "cell_type": "code",
     "collapsed": false,
     "input": [
      "create_bar_graph(missing_by_email, title=\"Documents Missing the Field: \", field_for_title='Email', x_label=\"Source\")"
     ],
     "language": "python",
     "metadata": {},
     "outputs": [
      {
       "metadata": {},
       "output_type": "display_data",
       "png": "[encoded data removed]",
       "text": [
        "<matplotlib.figure.Figure at 0x10bb6ee50>"
       ]
      }
     ],
     "prompt_number": 229
    },
    {
     "cell_type": "markdown",
     "metadata": {},
     "source": [
      "##Most Popular Tags in the dataset"
     ]
    },
    {
     "cell_type": "code",
     "collapsed": false,
     "input": [
      "top_tags_search = search(agg_type='field', field='tags', all_results=False)"
     ],
     "language": "python",
     "metadata": {},
     "outputs": [],
     "prompt_number": 230
    },
    {
     "cell_type": "code",
     "collapsed": false,
     "input": [
      "top_tags = full_results_to_list(top_tags_search)"
     ],
     "language": "python",
     "metadata": {},
     "outputs": [],
     "prompt_number": 231
    },
    {
     "cell_type": "code",
     "collapsed": false,
     "input": [
      "for source in top_tags:\n",
      "    print source['key']+ ', ' + str(source['doc_count'])"
     ],
     "language": "python",
     "metadata": {},
     "outputs": [
      {
       "output_type": "stream",
       "stream": "stdout",
       "text": [
        "physics, 54733\n",
        "ph, 35595\n",
        "energy, 34427\n",
        "high, 29157\n",
        "science, 27563\n",
        "physics:hep, 26075\n",
        "math, 25343\n",
        "theory, 24126\n",
        "mathematics, 23536\n",
        "matter, 21621\n"
       ]
      }
     ],
     "prompt_number": 232
    },
    {
     "cell_type": "code",
     "collapsed": false,
     "input": [
      "# print(json.dumps(top_tags, indent=4))"
     ],
     "language": "python",
     "metadata": {},
     "outputs": [],
     "prompt_number": 233
    },
    {
     "cell_type": "code",
     "collapsed": false,
     "input": [
      "create_bar_graph(top_tags, title=\"Most Frequent Tags\", x_label=\"Tag\")"
     ],
     "language": "python",
     "metadata": {},
     "outputs": [
      {
       "metadata": {},
       "output_type": "display_data",
       "png": "[encoded data removed]",
       "text": [
        "<matplotlib.figure.Figure at 0x10bb24510>"
       ]
      }
     ],
     "prompt_number": 234
    },
    {
     "cell_type": "markdown",
     "metadata": {},
     "source": [
      "## Testing Area"
     ]
    },
    {
     "cell_type": "markdown",
     "metadata": {},
     "source": [
      "Testing out getting intersection of properties across all documents"
     ]
    },
    {
     "cell_type": "code",
     "collapsed": false,
     "input": [],
     "language": "python",
     "metadata": {},
     "outputs": [],
     "prompt_number": 234
    },
    {
     "cell_type": "code",
     "collapsed": false,
     "input": [],
     "language": "python",
     "metadata": {},
     "outputs": [],
     "prompt_number": 234
    },
    {
     "cell_type": "code",
     "collapsed": false,
     "input": [
      "# map = requests.get('http://localhost:9200/metadata/_mapping/field/properties')"
     ],
     "language": "python",
     "metadata": {},
     "outputs": [],
     "prompt_number": 235
    },
    {
     "cell_type": "code",
     "collapsed": false,
     "input": [],
     "language": "python",
     "metadata": {},
     "outputs": [],
     "prompt_number": 235
    },
    {
     "cell_type": "code",
     "collapsed": false,
     "input": [],
     "language": "python",
     "metadata": {},
     "outputs": [],
     "prompt_number": 235
    }
   ],
   "metadata": {}
  }
 ]
}