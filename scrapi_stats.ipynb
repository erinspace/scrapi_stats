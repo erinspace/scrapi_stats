{
 "metadata": {
  "name": "",
  "signature": "sha256:134314e81fa9d3b9e07e2b9e1f063849a04d5ac9cda6b51636b61f01b4ba2450"
 },
 "nbformat": 3,
 "nbformat_minor": 0,
 "worksheets": [
  {
   "cells": [
    {
     "cell_type": "markdown",
     "metadata": {},
     "source": [
      "#SHARE Results\n",
      "----\n",
      "Here are some working examples of how to query the current scrAPI database for metrics of results coming through the SHARE Notifiation Service.\n",
      "\n",
      "These particular queries are just examples, and the data is open for anyone to use, so feel free to make your own and experiment!\n",
      "\n",
      "----\n"
     ]
    },
    {
     "cell_type": "markdown",
     "metadata": {},
     "source": [
      "### Service Names for Reference\n",
      "----\n",
      "Each provider harvested from uses a shortened name for its source. Here's a guide to which short names refer to which services\n"
     ]
    },
    {
     "cell_type": "markdown",
     "metadata": {},
     "source": [
      "<table>\n",
      "    <tr>\n",
      "        <td> arxiv_oai </td>\n",
      "        <td> ArXiv </td>\n",
      "    </tr>\n",
      "    <tr>\n",
      "        <td> calpoly </td>\n",
      "        <td> Digital Commons at Cal Poly </td>\n",
      "    </tr>\n",
      "    <tr>\n",
      "        <td> clinicaltrials </td>\n",
      "        <td> ClinicalTrials.gov </td>\n",
      "    </tr>    \n",
      "    <tr>\n",
      "        <td> crossref </td>\n",
      "        <td> CrossRef </td>\n",
      "    </tr>\n",
      "    <tr>\n",
      "        <td> doepages </td>\n",
      "        <td> Department of Energy Pages </td>\n",
      "    </tr>\n",
      "\n",
      "    <tr>\n",
      "        <td> cmu </td>\n",
      "        <td> Carnegie Mellon University Research Showcase </td>\n",
      "    </tr>\n",
      "    <tr>\n",
      "        <td> columbia  </td>\n",
      "        <td> Columbia Adacemic Commons </td>\n",
      "    </tr>\n",
      "    <tr>\n",
      "        <td> dataone </td>\n",
      "        <td> DataONE: Data Observation Network for Earth </td>\n",
      "    </tr>\n",
      "    <tr>\n",
      "        <td> mit </td>\n",
      "        <td> DSpace@MIT </td>\n",
      "    </tr>\n",
      "    <tr>\n",
      "        <td> opensiuc </td>\n",
      "        <td> OpenSIUC at the Southern Illinois University Carbondale </td>\n",
      "    </tr>\n",
      "    <tr>\n",
      "        <td> plos </td>\n",
      "        <td> Public Library Of Science </td>\n",
      "    </tr>\n",
      "    <tr>\n",
      "        <td> scitech </td>\n",
      "        <td> SciTech Connect </td>\n",
      "    </tr>\n",
      "    <tr>\n",
      "        <td> stcloud </td>\n",
      "        <td> theRepository at St. Cloud State </td>\n",
      "    </tr>\n",
      "    <tr>\n",
      "        <td> uceschol </td>\n",
      "        <td> California Digital Library eScholarship System </td>\n",
      "    </tr>\n",
      "    <tr>\n",
      "        <td> uiucideals </td>\n",
      "        <td> University of Illinois at Urbana-Champaign Illinois Digital Enviornment for Access to Learning and Scholarship </td>\n",
      "    </tr>\n",
      "    <tr>\n",
      "        <td> upenn </td>\n",
      "        <td> University of Pennsylvania Scholarly Commons </td>\n",
      "    </tr>\n",
      "    <tr>\n",
      "        <td> utaustin </td>\n",
      "        <td> University of Texas Digital Repository </td>\n",
      "    </tr>\n",
      "    <tr>\n",
      "        <td> uwdspace </td>\n",
      "        <td> ResearchWorks at the University of Washington </td>\n",
      "    </tr>\n",
      "    <tr>\n",
      "        <td> vtechworks </td>\n",
      "        <td> Virginia Tech VTechWorks </td>\n",
      "    </tr>\n",
      "    <tr>\n",
      "        <td> wayne </td>\n",
      "        <td> DigitalCommons@WayneState </td>\n",
      "    </tr>\n",
      "    \n",
      "</table>"
     ]
    },
    {
     "cell_type": "markdown",
     "metadata": {},
     "source": [
      "##Setup: "
     ]
    },
    {
     "cell_type": "code",
     "collapsed": false,
     "input": [
      "import json\n",
      "import requests\n",
      "\n",
      "import numpy as np\n",
      "import matplotlib.pyplot as plt\n",
      "\n",
      "%matplotlib inline"
     ],
     "language": "python",
     "metadata": {},
     "outputs": [],
     "prompt_number": 396
    },
    {
     "cell_type": "code",
     "collapsed": false,
     "input": [
      "# SHARE-dev settings\n",
      "OSF_APP_URL = 'https://share-dev.osf.io/api/v1/app/6qajn/?return_raw=True'"
     ],
     "language": "python",
     "metadata": {},
     "outputs": [],
     "prompt_number": 397
    },
    {
     "cell_type": "markdown",
     "metadata": {},
     "source": [
      "## Query Setup"
     ]
    },
    {
     "cell_type": "code",
     "collapsed": false,
     "input": [
      "def query_osf(query):\n",
      "    headers = {'Content-Type': 'application/json'}\n",
      "    data = json.dumps(query)\n",
      "    return requests.post(OSF_APP_URL, headers=headers, data=data, verify=False).json()"
     ],
     "language": "python",
     "metadata": {},
     "outputs": [],
     "prompt_number": 398
    },
    {
     "cell_type": "code",
     "collapsed": false,
     "input": [
      "def search(agg_type, field, all_results=True, exclude_terms=False):\n",
      "    if agg_type == 'field':\n",
      "        query = field_aggregation_query(field, all_results)\n",
      "    elif agg_type == 'missing':\n",
      "        query = source_missing_query(field)\n",
      "    else: \n",
      "        print(\"Not a valid agg query!\")\n",
      "        return None\n",
      "    return query_osf(query)"
     ],
     "language": "python",
     "metadata": {},
     "outputs": [],
     "prompt_number": 399
    },
    {
     "cell_type": "code",
     "collapsed": false,
     "input": [
      "def field_aggregation_query(field, all_results):\n",
      "    ''' Use this basic aggregation query to find all\n",
      "    of the results from a particular field. Perhaps\n",
      "    best used for sources or tag counts '''\n",
      "    \n",
      "    return {\n",
      "        \"size\" : 0,\n",
      "        \"aggs\": {\n",
      "            \"sources\" : {\n",
      "                \"terms\" : {\n",
      "                    \"field\": field, \n",
      "                    \"size\" : return_all(all_results),\n",
      "                    \"exclude\" : \"of|and|or\"\n",
      "                }\n",
      "            }\n",
      "        }\n",
      "    }"
     ],
     "language": "python",
     "metadata": {},
     "outputs": [],
     "prompt_number": 400
    },
    {
     "cell_type": "code",
     "collapsed": false,
     "input": [
      "def source_missing_query(missing_field):\n",
      "    ''' Use this query to find how many documents from \n",
      "    a particular source are missing an entry for any field '''\n",
      "    \n",
      "    return {\n",
      "        \"size\": 0,\n",
      "            \"aggs\": {\n",
      "            \"sourceAggregation\": {\n",
      "                \"filter\" : {\n",
      "                    \"missing\" : {\"field\" : missing_field}\n",
      "                },\n",
      "                \"aggs\" : {\n",
      "                    \"sources\" : {\n",
      "                        \"terms\" : {\n",
      "                            \"field\": \"source\",\n",
      "                            \"size\": 0\n",
      "                        }\n",
      "                    }\n",
      "                }\n",
      "            }\n",
      "        }\n",
      "    }"
     ],
     "language": "python",
     "metadata": {},
     "outputs": [],
     "prompt_number": 401
    },
    {
     "cell_type": "code",
     "collapsed": false,
     "input": [
      "def return_all(all_results):\n",
      "    ''' used to determine if you want \n",
      "    to show all of the results, or just \n",
      "    the top 10 '''\n",
      "    \n",
      "    if all_results:\n",
      "        return 0\n",
      "    else:\n",
      "        return 10\n",
      "    "
     ],
     "language": "python",
     "metadata": {},
     "outputs": [],
     "prompt_number": 402
    },
    {
     "cell_type": "code",
     "collapsed": false,
     "input": [
      "def extract_values_and_labels(elastic_results):\n",
      "    ''' Takes a list of dictionaries of the results of\n",
      "    an elasticsearch aggregation, and converts them into\n",
      "    two lists - of values, and labels - to be used in \n",
      "    plotting later.\n",
      "    \n",
      "    Returns a dictionary with the lists of values and labels\n",
      "    '''\n",
      "    labels = []\n",
      "    values = []\n",
      "    for item in elastic_results:\n",
      "        labels.append(item['key'])\n",
      "        values.append(item['doc_count'])\n",
      "    \n",
      "    return {'values': values, 'labels':labels}"
     ],
     "language": "python",
     "metadata": {},
     "outputs": [],
     "prompt_number": 403
    },
    {
     "cell_type": "markdown",
     "metadata": {},
     "source": [
      "####Making Graphs!"
     ]
    },
    {
     "cell_type": "code",
     "collapsed": false,
     "input": [
      "def create_bar_graph(elastic_results, title, field_for_title=''):\n",
      "    ''' takes a list of elastic results, and \n",
      "    returns a bar graph of the doc counts'''\n",
      "    \n",
      "    values_labels = extract_values_and_labels(elastic_results)\n",
      "    values = values_labels['values']\n",
      "    labels = values_labels['labels']\n",
      "    \n",
      "    length = len(values)\n",
      "    index = np.arange(len(values))\n",
      "    width = 0.35 \n",
      "    \n",
      "    bar = plt.bar(index, values)\n",
      "    \n",
      "    plt.xticks(index+width/2, labels, rotation='vertical')\n",
      "    plt.xlabel('Source')\n",
      "    plt.ylabel('Document Count')\n",
      "    plt.title(title + field_for_title)"
     ],
     "language": "python",
     "metadata": {},
     "outputs": [],
     "prompt_number": 404
    },
    {
     "cell_type": "code",
     "collapsed": false,
     "input": [
      "def create_pie_chart(elastic_results, title, field_for_title=''):\n",
      "    ''' takes a list of elastic results, and \n",
      "    returns a bar graph of the doc counts.\n",
      "    Looks very messy at the moment - need to fix labels'''\n",
      "    \n",
      "    values_labels = extract_values_and_labels(elastic_results)\n",
      "    values = values_labels['values']\n",
      "    labels = values_labels['labels']\n",
      "    \n",
      "    pie = plt.pie(values, labels=labels)\n",
      "    plt.title(title + field_for_title)"
     ],
     "language": "python",
     "metadata": {},
     "outputs": [],
     "prompt_number": 405
    },
    {
     "cell_type": "markdown",
     "metadata": {},
     "source": [
      "###Documents per source"
     ]
    },
    {
     "cell_type": "code",
     "collapsed": false,
     "input": [
      "source_stats_search = search(agg_type='field', field='source')"
     ],
     "language": "python",
     "metadata": {},
     "outputs": [],
     "prompt_number": 406
    },
    {
     "cell_type": "code",
     "collapsed": false,
     "input": [
      "source_statistics = source_stats_search['aggregations']['sources']['buckets']"
     ],
     "language": "python",
     "metadata": {},
     "outputs": [],
     "prompt_number": 407
    },
    {
     "cell_type": "code",
     "collapsed": false,
     "input": [
      "# print(json.dumps(source_statistics, indent=4))"
     ],
     "language": "python",
     "metadata": {},
     "outputs": [],
     "prompt_number": 408
    },
    {
     "cell_type": "code",
     "collapsed": false,
     "input": [
      "create_bar_graph(source_statistics, \"Documents Per Source\")"
     ],
     "language": "python",
     "metadata": {},
     "outputs": [
      {
       "metadata": {},
       "output_type": "display_data",
       "png": "[encoded data removed]",
       "text": [
        "<matplotlib.figure.Figure at 0x1102b4c10>"
       ]
      }
     ],
     "prompt_number": 409
    },
    {
     "cell_type": "code",
     "collapsed": false,
     "input": [
      "''' The labels on this need some serious fixing!!\n",
      "Will look a lot better once we deal with all of the\n",
      "dataone issues - in the works right now '''\n",
      "\n",
      "create_pie_chart(source_statistics, \"Documents Per Source\")"
     ],
     "language": "python",
     "metadata": {},
     "outputs": [
      {
       "metadata": {},
       "output_type": "display_data",
       "png": "[encoded data removed]",
       "text": [
        "<matplotlib.figure.Figure at 0x11016f090>"
       ]
      }
     ],
     "prompt_number": 410
    },
    {
     "cell_type": "markdown",
     "metadata": {},
     "source": [
      "###Number of missing fields per source"
     ]
    },
    {
     "cell_type": "code",
     "collapsed": false,
     "input": [
      "missing_by_field_search = search('missing', field='title')"
     ],
     "language": "python",
     "metadata": {},
     "outputs": [],
     "prompt_number": 411
    },
    {
     "cell_type": "code",
     "collapsed": false,
     "input": [
      "missing_by_field = missing_by_field_search['aggregations']['sourceAggregation']['sources']['buckets']"
     ],
     "language": "python",
     "metadata": {},
     "outputs": [],
     "prompt_number": 412
    },
    {
     "cell_type": "code",
     "collapsed": false,
     "input": [
      "# print(json.dumps(missing_by_field, indent=4))"
     ],
     "language": "python",
     "metadata": {},
     "outputs": [],
     "prompt_number": 413
    },
    {
     "cell_type": "code",
     "collapsed": false,
     "input": [
      "create_bar_graph(missing_by_field, \"Documents Missing the Field: \", 'Title')"
     ],
     "language": "python",
     "metadata": {},
     "outputs": [
      {
       "metadata": {},
       "output_type": "display_data",
       "png": "[encoded data removed]",
       "text": [
        "<matplotlib.figure.Figure at 0x11029f510>"
       ]
      }
     ],
     "prompt_number": 414
    },
    {
     "cell_type": "markdown",
     "metadata": {},
     "source": [
      "##Most Popular Tags in the dataset"
     ]
    },
    {
     "cell_type": "code",
     "collapsed": false,
     "input": [
      "top_tags_search = search(agg_type='field', field='tags', all_results=False)"
     ],
     "language": "python",
     "metadata": {},
     "outputs": [],
     "prompt_number": 415
    },
    {
     "cell_type": "code",
     "collapsed": false,
     "input": [
      "top_tags = top_tags_search['aggregations']['sources']['buckets']"
     ],
     "language": "python",
     "metadata": {},
     "outputs": [],
     "prompt_number": 416
    },
    {
     "cell_type": "code",
     "collapsed": false,
     "input": [
      "print(json.dumps(top_tags, indent=4))"
     ],
     "language": "python",
     "metadata": {},
     "outputs": [
      {
       "output_type": "stream",
       "stream": "stdout",
       "text": [
        "[\n",
        "    {\n",
        "        \"key\": \"health\", \n",
        "        \"doc_count\": 16310\n",
        "    }, \n",
        "    {\n",
        "        \"key\": \"water\", \n",
        "        \"doc_count\": 14886\n",
        "    }, \n",
        "    {\n",
        "        \"key\": \"contaminants\", \n",
        "        \"doc_count\": 14632\n",
        "    }, \n",
        "    {\n",
        "        \"key\": \"county\", \n",
        "        \"doc_count\": 14632\n",
        "    }, \n",
        "    {\n",
        "        \"key\": \"california\", \n",
        "        \"doc_count\": 14630\n",
        "    }, \n",
        "    {\n",
        "        \"key\": \"drinking\", \n",
        "        \"doc_count\": 14628\n",
        "    }, \n",
        "    {\n",
        "        \"key\": \"physics\", \n",
        "        \"doc_count\": 13061\n",
        "    }, \n",
        "    {\n",
        "        \"key\": \"science\", \n",
        "        \"doc_count\": 10133\n",
        "    }, \n",
        "    {\n",
        "        \"key\": \"math\", \n",
        "        \"doc_count\": 8305\n",
        "    }, \n",
        "    {\n",
        "        \"key\": \"ph\", \n",
        "        \"doc_count\": 8227\n",
        "    }\n",
        "]\n"
       ]
      }
     ],
     "prompt_number": 417
    },
    {
     "cell_type": "code",
     "collapsed": false,
     "input": [],
     "language": "python",
     "metadata": {},
     "outputs": [],
     "prompt_number": 417
    }
   ],
   "metadata": {}
  }
 ]
}