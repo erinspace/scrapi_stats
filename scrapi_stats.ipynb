{
 "metadata": {
  "name": "",
  "signature": "sha256:736ac2221dc85b954842a7b1d6e7f0dc76ce81e5f39245ee035adbf0783e32ce"
 },
 "nbformat": 3,
 "nbformat_minor": 0,
 "worksheets": [
  {
   "cells": [
    {
     "cell_type": "markdown",
     "metadata": {},
     "source": [
      "#SHARE Results\n",
      "----\n",
      "Here are some working examples of how to query the current scrAPI database for metrics of results coming through the SHARE Notifiation Service.  \n",
      "\n",
      "----\n"
     ]
    },
    {
     "cell_type": "markdown",
     "metadata": {},
     "source": [
      "##Setup: "
     ]
    },
    {
     "cell_type": "code",
     "collapsed": false,
     "input": [
      "from __future__ import division\n",
      "import copy\n",
      "import json\n",
      "import logging\n",
      "import requests\n",
      "import datetime\n",
      "\n",
      "from pandas import DataFrame, Series"
     ],
     "language": "python",
     "metadata": {},
     "outputs": [],
     "prompt_number": 204
    },
    {
     "cell_type": "code",
     "collapsed": false,
     "input": [
      "OSF_APP_URL = 'https://share-dev.osf.io/api/v1/app/6qajn/'\n",
      "OSF_AUTH = ('scrapi_stats','543edf86b5e9d7579327c710eb1d94ee-d8da-472a-84bb-ba6b96499c80')"
     ],
     "language": "python",
     "metadata": {},
     "outputs": [],
     "prompt_number": 205
    },
    {
     "cell_type": "code",
     "collapsed": false,
     "input": [
      "DEFAULT_PARAMS = {\n",
      "    'q': '*',\n",
      "    'start_date': None,\n",
      "    'end_date': datetime.date.today().isoformat(),\n",
      "    'sort_field': 'dateUpdated',\n",
      "    'sort_type': 'desc',\n",
      "    'from': 0,\n",
      "    'size': 10,\n",
      "    'format': 'json',\n",
      "    'empty_field': None\n",
      "}"
     ],
     "language": "python",
     "metadata": {},
     "outputs": [],
     "prompt_number": 206
    },
    {
     "cell_type": "markdown",
     "metadata": {},
     "source": [
      "## Query Setup"
     ]
    },
    {
     "cell_type": "code",
     "collapsed": false,
     "input": [
      "def query_osf(query):\n",
      "    headers = {'Content-Type': 'application/json'}\n",
      "    data = json.dumps(query)\n",
      "#     import pdb; pdb.set_trace()\n",
      "    print(data)\n",
      "    return requests.post(OSF_APP_URL, auth=OSF_AUTH, headers=headers, data=data, verify=False).json()"
     ],
     "language": "python",
     "metadata": {},
     "outputs": [],
     "prompt_number": 207
    },
    {
     "cell_type": "code",
     "collapsed": false,
     "input": [
      "def search(raw_params):\n",
      "    params = copy.deepcopy(DEFAULT_PARAMS)\n",
      "    params.update(raw_params)\n",
      "    for key in params.keys():\n",
      "        if isinstance(params[key], list) and len(params[key]) == 1:\n",
      "            params[key] = params[key][0]\n",
      "    params['from'] = int(params['from'])\n",
      "    params['size'] = int(params['size'])\n",
      "    print params\n",
      "    query = parse_query(params)\n",
      "    query['format'] = params.get('format')\n",
      "    return query_osf(query)"
     ],
     "language": "python",
     "metadata": {},
     "outputs": [],
     "prompt_number": 208
    },
    {
     "cell_type": "code",
     "collapsed": false,
     "input": [
      "def parse_query(params):\n",
      "    return {\n",
      "        'query': build_query(\n",
      "            params.get('q'),\n",
      "            params.get('start_date'),\n",
      "            params.get('end_date'),\n",
      "            params.get('empty_field')\n",
      "        ),\n",
      "        'sort': build_sort(params.get('sort_field'), params.get('sort_type')),\n",
      "        'from': params.get('from'),\n",
      "        'size': params.get('size')\n",
      "\n",
      "    }"
     ],
     "language": "python",
     "metadata": {},
     "outputs": [],
     "prompt_number": 209
    },
    {
     "cell_type": "code",
     "collapsed": false,
     "input": [
      "def build_query(q, start_date, end_date, empty_field):\n",
      "    # import pdb; pdb.set_trace()\n",
      "    if empty_field is not None:\n",
      "        return {\n",
      "            'filtered': {\n",
      "                'query': build_query_string(q),\n",
      "                'filter': {\n",
      "                    'bool': {\n",
      "                        'must': [\n",
      "                            build_date_filter(start_date, end_date),\n",
      "                        ],\n",
      "                        'must_not' : [\n",
      "                            build_empty_filter(empty_field)\n",
      "                        ]\n",
      "                    }\n",
      "                }\n",
      "            }\n",
      "        }\n",
      "    else:\n",
      "        return {\n",
      "            'filtered': {\n",
      "                'query': build_query_string(q),\n",
      "                'filter': build_date_filter(start_date, end_date)\n",
      "            }\n",
      "        }"
     ],
     "language": "python",
     "metadata": {},
     "outputs": [],
     "prompt_number": 210
    },
    {
     "cell_type": "code",
     "collapsed": false,
     "input": [
      "def build_query_string(q):\n",
      "    return {\n",
      "        'query_string': {\n",
      "            'default_field': '_all',\n",
      "            'query': q,\n",
      "            'analyze_wildcard': True,\n",
      "            'lenient': True  # TODO, may not want to do this\n",
      "        }\n",
      "    }"
     ],
     "language": "python",
     "metadata": {},
     "outputs": [],
     "prompt_number": 211
    },
    {
     "cell_type": "code",
     "collapsed": false,
     "input": [
      "def build_date_filter(start_date, end_date):\n",
      "    return {\n",
      "        'range': {\n",
      "            'consumeFinished': {\n",
      "                'gte': start_date,  # TODO, can be None, elasticsearch may not like it\n",
      "                'lte': end_date\n",
      "            }\n",
      "        }\n",
      "    }"
     ],
     "language": "python",
     "metadata": {},
     "outputs": [],
     "prompt_number": 212
    },
    {
     "cell_type": "code",
     "collapsed": false,
     "input": [
      "def build_empty_filter(empty_field):\n",
      "    return {\n",
      "        'exists' : {\n",
      "            'field': empty_field\n",
      "        }\n",
      "    }"
     ],
     "language": "python",
     "metadata": {},
     "outputs": [],
     "prompt_number": 213
    },
    {
     "cell_type": "code",
     "collapsed": false,
     "input": [
      "def build_sort(sort_field, sort_type):\n",
      "    print sort_field\n",
      "    return [{\n",
      "        sort_field : {\n",
      "            'order': sort_type\n",
      "        }\n",
      "    }]"
     ],
     "language": "python",
     "metadata": {},
     "outputs": [],
     "prompt_number": 214
    },
    {
     "cell_type": "markdown",
     "metadata": {},
     "source": [
      "Now we can get the Total Number of results for later calculation of percentage stats"
     ]
    },
    {
     "cell_type": "code",
     "collapsed": false,
     "input": [
      "all_results = search({})"
     ],
     "language": "python",
     "metadata": {},
     "outputs": [
      {
       "output_type": "stream",
       "stream": "stdout",
       "text": [
        "{'from': 0, 'end_date': '2014-10-17', 'format': 'json', 'q': '*', 'empty_field': None, 'sort_type': 'desc', 'sort_field': 'dateUpdated', 'start_date': None, 'size': 10}\n",
        "dateUpdated\n",
        "{\"sort\": [{\"dateUpdated\": {\"order\": \"desc\"}}], \"query\": {\"filtered\": {\"filter\": {\"range\": {\"consumeFinished\": {\"gte\": null, \"lte\": \"2014-10-17\"}}}, \"query\": {\"query_string\": {\"query\": \"*\", \"lenient\": true, \"default_field\": \"_all\", \"analyze_wildcard\": true}}}}, \"format\": \"json\", \"from\": 0, \"size\": 10}\n"
       ]
      }
     ],
     "prompt_number": 215
    },
    {
     "cell_type": "code",
     "collapsed": false,
     "input": [
      "total_results = all_results['total']"
     ],
     "language": "python",
     "metadata": {},
     "outputs": [],
     "prompt_number": 216
    },
    {
     "cell_type": "code",
     "collapsed": false,
     "input": [
      "total_results"
     ],
     "language": "python",
     "metadata": {},
     "outputs": [
      {
       "metadata": {},
       "output_type": "pyout",
       "prompt_number": 217,
       "text": [
        "68498"
       ]
      }
     ],
     "prompt_number": 217
    },
    {
     "cell_type": "markdown",
     "metadata": {},
     "source": [
      "Create a large dictionary from all results"
     ]
    },
    {
     "cell_type": "markdown",
     "metadata": {},
     "source": [
      "#Aggregating Results"
     ]
    },
    {
     "cell_type": "markdown",
     "metadata": {},
     "source": [
      "Here are some ways we can query elasticsearch to gather some metrics, and see which fields are missing in the data we've collected so far. "
     ]
    },
    {
     "cell_type": "markdown",
     "metadata": {},
     "source": [
      "##DOI"
     ]
    },
    {
     "cell_type": "code",
     "collapsed": false,
     "input": [
      "# Find all results without a DOI\n",
      "results_no_doi = search({'empty_field': 'doi'})"
     ],
     "language": "python",
     "metadata": {},
     "outputs": [
      {
       "output_type": "stream",
       "stream": "stdout",
       "text": [
        "{'from': 0, 'end_date': '2014-10-17', 'format': 'json', 'q': '*', 'empty_field': 'doi', 'sort_type': 'desc', 'sort_field': 'dateUpdated', 'start_date': None, 'size': 10}\n",
        "dateUpdated\n",
        "{\"sort\": [{\"dateUpdated\": {\"order\": \"desc\"}}], \"query\": {\"filtered\": {\"filter\": {\"bool\": {\"must_not\": [{\"exists\": {\"field\": \"doi\"}}], \"must\": [{\"range\": {\"consumeFinished\": {\"gte\": null, \"lte\": \"2014-10-17\"}}}]}}, \"query\": {\"query_string\": {\"query\": \"*\", \"lenient\": true, \"default_field\": \"_all\", \"analyze_wildcard\": true}}}}, \"format\": \"json\", \"from\": 0, \"size\": 10}\n"
       ]
      }
     ],
     "prompt_number": 218
    },
    {
     "cell_type": "code",
     "collapsed": false,
     "input": [
      "total_no_doi = results_no_doi['total']"
     ],
     "language": "python",
     "metadata": {},
     "outputs": [],
     "prompt_number": 219
    },
    {
     "cell_type": "markdown",
     "metadata": {},
     "source": [
      "####Percentage of all results with no DOI"
     ]
    },
    {
     "cell_type": "code",
     "collapsed": false,
     "input": [
      "(total_no_doi/total_results)*100"
     ],
     "language": "python",
     "metadata": {},
     "outputs": [
      {
       "metadata": {},
       "output_type": "pyout",
       "prompt_number": 220,
       "text": [
        "76.7861835382055"
       ]
      }
     ],
     "prompt_number": 220
    },
    {
     "cell_type": "markdown",
     "metadata": {},
     "source": [
      "DOI per source"
     ]
    },
    {
     "cell_type": "code",
     "collapsed": false,
     "input": [
      "source_total = search({'q': 'source:wayne'})"
     ],
     "language": "python",
     "metadata": {},
     "outputs": [
      {
       "output_type": "stream",
       "stream": "stdout",
       "text": [
        "{'from': 0, 'end_date': '2014-10-17', 'format': 'json', 'q': 'source:wayne', 'empty_field': None, 'sort_type': 'desc', 'sort_field': 'dateUpdated', 'start_date': None, 'size': 10}\n",
        "dateUpdated\n",
        "{\"sort\": [{\"dateUpdated\": {\"order\": \"desc\"}}], \"query\": {\"filtered\": {\"filter\": {\"range\": {\"consumeFinished\": {\"gte\": null, \"lte\": \"2014-10-17\"}}}, \"query\": {\"query_string\": {\"query\": \"source:wayne\", \"lenient\": true, \"default_field\": \"_all\", \"analyze_wildcard\": true}}}}, \"format\": \"json\", \"from\": 0, \"size\": 10}\n"
       ]
      }
     ],
     "prompt_number": 234
    },
    {
     "cell_type": "code",
     "collapsed": false,
     "input": [
      "source_total_num = source_total['total']"
     ],
     "language": "python",
     "metadata": {},
     "outputs": [
      {
       "metadata": {},
       "output_type": "pyout",
       "prompt_number": 235,
       "text": [
        "31"
       ]
      }
     ],
     "prompt_number": 235
    },
    {
     "cell_type": "code",
     "collapsed": false,
     "input": [
      "source_no_doi = search({'q': 'source:wayne', 'empty_field': 'doi'})"
     ],
     "language": "python",
     "metadata": {},
     "outputs": [
      {
       "output_type": "stream",
       "stream": "stdout",
       "text": [
        "{'from': 0, 'end_date': '2014-10-17', 'format': 'json', 'q': 'source:wayne', 'empty_field': 'doi', 'sort_type': 'desc', 'sort_field': 'dateUpdated', 'start_date': None, 'size': 10}\n",
        "dateUpdated\n",
        "{\"sort\": [{\"dateUpdated\": {\"order\": \"desc\"}}], \"query\": {\"filtered\": {\"filter\": {\"bool\": {\"must_not\": [{\"exists\": {\"field\": \"doi\"}}], \"must\": [{\"range\": {\"consumeFinished\": {\"gte\": null, \"lte\": \"2014-10-17\"}}}]}}, \"query\": {\"query_string\": {\"query\": \"source:wayne\", \"lenient\": true, \"default_field\": \"_all\", \"analyze_wildcard\": true}}}}, \"format\": \"json\", \"from\": 0, \"size\": 10}\n"
       ]
      }
     ],
     "prompt_number": 232
    },
    {
     "cell_type": "code",
     "collapsed": false,
     "input": [
      "source_no_doi_num = source_no_doi['total']"
     ],
     "language": "python",
     "metadata": {},
     "outputs": [
      {
       "metadata": {},
       "output_type": "pyout",
       "prompt_number": 233,
       "text": [
        "31"
       ]
      }
     ],
     "prompt_number": 233
    },
    {
     "cell_type": "code",
     "collapsed": false,
     "input": [
      "(source_total_num/sour)"
     ],
     "language": "python",
     "metadata": {},
     "outputs": []
    },
    {
     "cell_type": "markdown",
     "metadata": {},
     "source": [
      "##Title"
     ]
    },
    {
     "cell_type": "code",
     "collapsed": false,
     "input": [
      "# Find all results without a title\n",
      "results_no_title = search({'empty_field': 'title'})"
     ],
     "language": "python",
     "metadata": {},
     "outputs": [
      {
       "output_type": "stream",
       "stream": "stdout",
       "text": [
        "{'from': 0, 'end_date': '2014-10-17', 'format': 'json', 'q': '*', 'empty_field': 'title', 'sort_type': 'desc', 'sort_field': 'dateUpdated', 'start_date': None, 'size': 10}\n",
        "dateUpdated\n",
        "{\"sort\": [{\"dateUpdated\": {\"order\": \"desc\"}}], \"query\": {\"filtered\": {\"filter\": {\"bool\": {\"must_not\": [{\"exists\": {\"field\": \"title\"}}], \"must\": [{\"range\": {\"consumeFinished\": {\"gte\": null, \"lte\": \"2014-10-17\"}}}]}}, \"query\": {\"query_string\": {\"query\": \"*\", \"lenient\": true, \"default_field\": \"_all\", \"analyze_wildcard\": true}}}}, \"format\": \"json\", \"from\": 0, \"size\": 10}\n"
       ]
      }
     ],
     "prompt_number": 227
    },
    {
     "cell_type": "code",
     "collapsed": false,
     "input": [
      "total_no_title = results_no_title['total']"
     ],
     "language": "python",
     "metadata": {},
     "outputs": [],
     "prompt_number": 228
    },
    {
     "cell_type": "markdown",
     "metadata": {},
     "source": [
      "####Percentage of results with no Title"
     ]
    },
    {
     "cell_type": "code",
     "collapsed": false,
     "input": [
      "(total_no_title/total_results)*100"
     ],
     "language": "python",
     "metadata": {},
     "outputs": [
      {
       "metadata": {},
       "output_type": "pyout",
       "prompt_number": 229,
       "text": [
        "22.784606849835033"
       ]
      }
     ],
     "prompt_number": 229
    }
   ],
   "metadata": {}
  }
 ]
}