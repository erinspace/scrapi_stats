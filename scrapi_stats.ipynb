{
 "metadata": {
  "name": "",
  "signature": "sha256:678a665806effb2b54780d2778d58aa6f2cc76b1665e93b373f023e93e95e4ab"
 },
 "nbformat": 3,
 "nbformat_minor": 0,
 "worksheets": [
  {
   "cells": [
    {
     "cell_type": "markdown",
     "metadata": {},
     "source": [
      "#SHARE Results\n",
      "----\n",
      "Here are some working examples of how to query the current scrAPI database for metrics of results coming through the SHARE Notifiation Service.  \n",
      "\n",
      "----\n"
     ]
    },
    {
     "cell_type": "markdown",
     "metadata": {},
     "source": [
      "### Service Names\n",
      "----\n",
      "For reference, each provider harvested from uses a shortened name for its source. Here's a guide for which short names refer to which services\n"
     ]
    },
    {
     "cell_type": "markdown",
     "metadata": {},
     "source": [
      "<table>\n",
      "    <tr>\n",
      "        <td> arxiv_oai </td>\n",
      "        <td> ArXiv </td>\n",
      "    </tr>\n",
      "    <tr>\n",
      "        <td> calpoly </td>\n",
      "        <td> Digital Commons at Cal Poly </td>\n",
      "    </tr>\n",
      "    <tr>\n",
      "        <td> clinicaltrials </td>\n",
      "        <td> ClinicalTrials.gov </td>\n",
      "    </tr>    \n",
      "    <tr>\n",
      "        <td> crossref </td>\n",
      "        <td> CrossRef </td>\n",
      "    </tr>\n",
      "    <tr>\n",
      "        <td> doepages </td>\n",
      "        <td> Department of Energy Pages </td>\n",
      "    </tr>\n",
      "\n",
      "    <tr>\n",
      "        <td> cmu </td>\n",
      "        <td> Carnegie Mellon University Research Showcase </td>\n",
      "    </tr>\n",
      "    <tr>\n",
      "        <td> columbia  </td>\n",
      "        <td> Columbia Adacemic Commons </td>\n",
      "    </tr>\n",
      "    <tr>\n",
      "        <td> dataone </td>\n",
      "        <td> DataONE: Data Observation Network for Earth </td>\n",
      "    </tr>\n",
      "    <tr>\n",
      "        <td> mit </td>\n",
      "        <td> DSpace@MIT </td>\n",
      "    </tr>\n",
      "    <tr>\n",
      "        <td> opensiuc </td>\n",
      "        <td> OpenSIUC at the Southern Illinois University Carbondale </td>\n",
      "    </tr>\n",
      "    <tr>\n",
      "        <td> plos </td>\n",
      "        <td> Public Library Of Science </td>\n",
      "    </tr>\n",
      "    <tr>\n",
      "        <td> scitech </td>\n",
      "        <td> SciTech Connect </td>\n",
      "    </tr>\n",
      "    <tr>\n",
      "        <td> stcloud </td>\n",
      "        <td> theRepository at St. Cloud State </td>\n",
      "    </tr>\n",
      "    <tr>\n",
      "        <td> uceschol </td>\n",
      "        <td> California Digital Library eScholarship System </td>\n",
      "    </tr>\n",
      "    <tr>\n",
      "        <td> uiucideals </td>\n",
      "        <td> University of Illinois at Urbana-Champaign Illinois Digital Enviornment for Access to Learning and Scholarship </td>\n",
      "    </tr>\n",
      "    <tr>\n",
      "        <td> upenn </td>\n",
      "        <td> University of Pennsylvania Scholarly Commons </td>\n",
      "    </tr>\n",
      "    <tr>\n",
      "        <td> utaustin </td>\n",
      "        <td> University of Texas Digital Repository </td>\n",
      "    </tr>\n",
      "    <tr>\n",
      "        <td> uwdspace </td>\n",
      "        <td> ResearchWorks at the University of Washington </td>\n",
      "    </tr>\n",
      "    <tr>\n",
      "        <td> vtechworks </td>\n",
      "        <td> Virginia Tech VTechWorks </td>\n",
      "    </tr>\n",
      "    <tr>\n",
      "        <td> wayne </td>\n",
      "        <td> DigitalCommons@WayneState </td>\n",
      "    </tr>\n",
      "    \n",
      "</table>"
     ]
    },
    {
     "cell_type": "markdown",
     "metadata": {},
     "source": [
      "##Setup: "
     ]
    },
    {
     "cell_type": "code",
     "collapsed": false,
     "input": [
      "import json\n",
      "import requests\n",
      "\n",
      "# Want to eventually use pandas!\n",
      "# from pandas import DataFrame, Series"
     ],
     "language": "python",
     "metadata": {},
     "outputs": [],
     "prompt_number": 90
    },
    {
     "cell_type": "code",
     "collapsed": false,
     "input": [
      "# SHARE-dev settings\n",
      "OSF_APP_URL = 'https://share-dev.osf.io/api/v1/app/6qajn/?return_raw=True'"
     ],
     "language": "python",
     "metadata": {},
     "outputs": [],
     "prompt_number": 91
    },
    {
     "cell_type": "code",
     "collapsed": false,
     "input": [
      "# Local Settings - for testing purposes! \n",
      "# OSF_APP_URL = 'http://localhost:5000/api/v1/app/kb7ae/?return_raw=True'"
     ],
     "language": "python",
     "metadata": {},
     "outputs": [],
     "prompt_number": 92
    },
    {
     "cell_type": "markdown",
     "metadata": {},
     "source": [
      "## Query Setup"
     ]
    },
    {
     "cell_type": "code",
     "collapsed": false,
     "input": [
      "def query_osf(query):\n",
      "    headers = {'Content-Type': 'application/json'}\n",
      "    data = json.dumps(query)\n",
      "    return requests.post(OSF_APP_URL, headers=headers, data=data, verify=False).json()"
     ],
     "language": "python",
     "metadata": {},
     "outputs": [],
     "prompt_number": 93
    },
    {
     "cell_type": "code",
     "collapsed": false,
     "input": [
      "def search(agg_type, field):\n",
      "    if agg_type == 'field':\n",
      "        query = field_aggregation_query(field)\n",
      "    elif agg_type == 'missing':\n",
      "        query = source_missing_query(field)\n",
      "    else: \n",
      "        print(\"Not a valid agg query!\")\n",
      "        return None\n",
      "    return query_osf(query)"
     ],
     "language": "python",
     "metadata": {},
     "outputs": [],
     "prompt_number": 94
    },
    {
     "cell_type": "code",
     "collapsed": false,
     "input": [
      "def field_aggregation_query(field):\n",
      "    return {\n",
      "        \"size\" : 0,\n",
      "        \"aggs\": {\n",
      "            \"sources\" : {\n",
      "                \"terms\" : {\"field\": field}\n",
      "            }\n",
      "        }\n",
      "    }"
     ],
     "language": "python",
     "metadata": {},
     "outputs": [],
     "prompt_number": 95
    },
    {
     "cell_type": "code",
     "collapsed": false,
     "input": [
      "def source_missing_query(missing_field):\n",
      "    return {\n",
      "        \"size\": 0,\n",
      "                \"aggs\": {\n",
      "            \"sourceAggregation\": {\n",
      "                \"filter\" : {\n",
      "                    \"missing\" : {\"field\" : missing_field}\n",
      "                },\n",
      "\n",
      "                \"aggs\" : {\n",
      "                    \"sources\" : {\n",
      "                        \"terms\" : {\"field\": \"source\"}\n",
      "                    }\n",
      "                }\n",
      "            }\n",
      "\n",
      "        }\n",
      "    }"
     ],
     "language": "python",
     "metadata": {},
     "outputs": [],
     "prompt_number": 96
    },
    {
     "cell_type": "markdown",
     "metadata": {},
     "source": [
      "###Documents per source"
     ]
    },
    {
     "cell_type": "code",
     "collapsed": false,
     "input": [
      "source_statistics = search(agg_type='field', field='source')"
     ],
     "language": "python",
     "metadata": {},
     "outputs": [],
     "prompt_number": 97
    },
    {
     "cell_type": "code",
     "collapsed": false,
     "input": [
      "print(json.dumps(source_statistics['aggregations'], indent=4))"
     ],
     "language": "python",
     "metadata": {},
     "outputs": [
      {
       "output_type": "stream",
       "stream": "stdout",
       "text": [
        "{\n",
        "    \"sources\": {\n",
        "        \"buckets\": [\n",
        "            {\n",
        "                \"key\": \"dataone\", \n",
        "                \"doc_count\": 66562\n",
        "            }, \n",
        "            {\n",
        "                \"key\": \"crossref\", \n",
        "                \"doc_count\": 13505\n",
        "            }, \n",
        "            {\n",
        "                \"key\": \"arxiv_oai\", \n",
        "                \"doc_count\": 12727\n",
        "            }, \n",
        "            {\n",
        "                \"key\": \"scitech\", \n",
        "                \"doc_count\": 3663\n",
        "            }, \n",
        "            {\n",
        "                \"key\": \"clinicaltrials\", \n",
        "                \"doc_count\": 2693\n",
        "            }, \n",
        "            {\n",
        "                \"key\": \"plos\", \n",
        "                \"doc_count\": 2417\n",
        "            }, \n",
        "            {\n",
        "                \"key\": \"uwdspace\", \n",
        "                \"doc_count\": 1760\n",
        "            }, \n",
        "            {\n",
        "                \"key\": \"mit\", \n",
        "                \"doc_count\": 743\n",
        "            }, \n",
        "            {\n",
        "                \"key\": \"calpoly\", \n",
        "                \"doc_count\": 204\n",
        "            }, \n",
        "            {\n",
        "                \"key\": \"uceschol\", \n",
        "                \"doc_count\": 181\n",
        "            }\n",
        "        ]\n",
        "    }\n",
        "}\n"
       ]
      }
     ],
     "prompt_number": 98
    },
    {
     "cell_type": "markdown",
     "metadata": {},
     "source": [
      "###Number of missing fields per source"
     ]
    },
    {
     "cell_type": "code",
     "collapsed": false,
     "input": [
      "missing_by_field = search('missing', field='email')"
     ],
     "language": "python",
     "metadata": {},
     "outputs": [],
     "prompt_number": 99
    },
    {
     "cell_type": "code",
     "collapsed": false,
     "input": [
      "print(json.dumps(missing_by_field['aggregations'], indent=4))"
     ],
     "language": "python",
     "metadata": {},
     "outputs": [
      {
       "output_type": "stream",
       "stream": "stdout",
       "text": [
        "{\n",
        "    \"sourceAggregation\": {\n",
        "        \"sources\": {\n",
        "            \"buckets\": [\n",
        "                {\n",
        "                    \"key\": \"dataone\", \n",
        "                    \"doc_count\": 66054\n",
        "                }, \n",
        "                {\n",
        "                    \"key\": \"crossref\", \n",
        "                    \"doc_count\": 13505\n",
        "                }, \n",
        "                {\n",
        "                    \"key\": \"arxiv_oai\", \n",
        "                    \"doc_count\": 12727\n",
        "                }, \n",
        "                {\n",
        "                    \"key\": \"scitech\", \n",
        "                    \"doc_count\": 3663\n",
        "                }, \n",
        "                {\n",
        "                    \"key\": \"clinicaltrials\", \n",
        "                    \"doc_count\": 2693\n",
        "                }, \n",
        "                {\n",
        "                    \"key\": \"plos\", \n",
        "                    \"doc_count\": 2417\n",
        "                }, \n",
        "                {\n",
        "                    \"key\": \"uwdspace\", \n",
        "                    \"doc_count\": 1760\n",
        "                }, \n",
        "                {\n",
        "                    \"key\": \"mit\", \n",
        "                    \"doc_count\": 743\n",
        "                }, \n",
        "                {\n",
        "                    \"key\": \"calpoly\", \n",
        "                    \"doc_count\": 204\n",
        "                }, \n",
        "                {\n",
        "                    \"key\": \"uceschol\", \n",
        "                    \"doc_count\": 181\n",
        "                }\n",
        "            ]\n",
        "        }, \n",
        "        \"doc_count\": 135107\n",
        "    }\n",
        "}\n"
       ]
      }
     ],
     "prompt_number": 103
    },
    {
     "cell_type": "markdown",
     "metadata": {},
     "source": [
      "##Most Popular Tags in the dataset"
     ]
    },
    {
     "cell_type": "code",
     "collapsed": false,
     "input": [
      "top_tags = search(agg_type='field', field='tags')"
     ],
     "language": "python",
     "metadata": {},
     "outputs": [],
     "prompt_number": 101
    },
    {
     "cell_type": "code",
     "collapsed": false,
     "input": [
      "print(json.dumps(top_tags['aggregations'], indent=4))"
     ],
     "language": "python",
     "metadata": {},
     "outputs": [
      {
       "output_type": "stream",
       "stream": "stdout",
       "text": [
        "{\n",
        "    \"sources\": {\n",
        "        \"buckets\": [\n",
        "            {\n",
        "                \"key\": \"and\", \n",
        "                \"doc_count\": 24799\n",
        "            }, \n",
        "            {\n",
        "                \"key\": \"health\", \n",
        "                \"doc_count\": 16310\n",
        "            }, \n",
        "            {\n",
        "                \"key\": \"water\", \n",
        "                \"doc_count\": 14886\n",
        "            }, \n",
        "            {\n",
        "                \"key\": \"contaminants\", \n",
        "                \"doc_count\": 14632\n",
        "            }, \n",
        "            {\n",
        "                \"key\": \"county\", \n",
        "                \"doc_count\": 14632\n",
        "            }, \n",
        "            {\n",
        "                \"key\": \"california\", \n",
        "                \"doc_count\": 14630\n",
        "            }, \n",
        "            {\n",
        "                \"key\": \"drinking\", \n",
        "                \"doc_count\": 14628\n",
        "            }, \n",
        "            {\n",
        "                \"key\": \"physics\", \n",
        "                \"doc_count\": 13061\n",
        "            }, \n",
        "            {\n",
        "                \"key\": \"science\", \n",
        "                \"doc_count\": 10133\n",
        "            }, \n",
        "            {\n",
        "                \"key\": \"of\", \n",
        "                \"doc_count\": 9688\n",
        "            }\n",
        "        ]\n",
        "    }\n",
        "}\n"
       ]
      }
     ],
     "prompt_number": 102
    },
    {
     "cell_type": "code",
     "collapsed": false,
     "input": [],
     "language": "python",
     "metadata": {},
     "outputs": [],
     "prompt_number": 102
    }
   ],
   "metadata": {}
  }
 ]
}