{
 "metadata": {
  "name": "",
  "signature": "sha256:fedf4b6ac6609cceaa531f4f1f5672db0dccfb10e632546a69b1679ed4af15fd"
 },
 "nbformat": 3,
 "nbformat_minor": 0,
 "worksheets": [
  {
   "cells": [
    {
     "cell_type": "markdown",
     "metadata": {},
     "source": [
      "#SHARE Results\n",
      "----\n",
      "Here are some working examples of how to query the current scrAPI database for metrics of results coming through the SHARE Notifiation Service.  \n",
      "\n",
      "----\n"
     ]
    },
    {
     "cell_type": "markdown",
     "metadata": {},
     "source": [
      "##Setup: "
     ]
    },
    {
     "cell_type": "code",
     "collapsed": false,
     "input": [
      "from __future__ import division\n",
      "import copy\n",
      "import json\n",
      "import logging\n",
      "import requests\n",
      "import datetime\n",
      "\n",
      "# Want to eventually use pandas!\n",
      "# from pandas import DataFrame, Series"
     ],
     "language": "python",
     "metadata": {},
     "outputs": [],
     "prompt_number": 8
    },
    {
     "cell_type": "code",
     "collapsed": false,
     "input": [
      "OSF_APP_URL = 'https://share-dev.osf.io/api/v1/app/6qajn/'\n",
      "OSF_AUTH = ('scrapi_stats','543edf86b5e9d7579327c710eb1d94ee-d8da-472a-84bb-ba6b96499c80')"
     ],
     "language": "python",
     "metadata": {},
     "outputs": [],
     "prompt_number": 9
    },
    {
     "cell_type": "code",
     "collapsed": false,
     "input": [
      "DEFAULT_PARAMS = {\n",
      "    'q': '*',\n",
      "    'start_date': None,\n",
      "    'end_date': datetime.date.today().isoformat(),\n",
      "    'sort_field': 'dateUpdated',\n",
      "    'sort_type': 'desc',\n",
      "    'from': 0,\n",
      "    'size': 10,\n",
      "    'format': 'json',\n",
      "    'empty_field': None,\n",
      "    'agg': False\n",
      "}"
     ],
     "language": "python",
     "metadata": {},
     "outputs": [],
     "prompt_number": 10
    },
    {
     "cell_type": "markdown",
     "metadata": {},
     "source": [
      "## Query Setup"
     ]
    },
    {
     "cell_type": "code",
     "collapsed": false,
     "input": [
      "def query_osf(query):\n",
      "    headers = {'Content-Type': 'application/json'}\n",
      "    data = json.dumps(query)\n",
      "#     import pdb; pdb.set_trace()\n",
      "    print(data)\n",
      "    return requests.post(OSF_APP_URL, auth=OSF_AUTH, headers=headers, data=data, verify=False).json()"
     ],
     "language": "python",
     "metadata": {},
     "outputs": [],
     "prompt_number": 11
    },
    {
     "cell_type": "code",
     "collapsed": false,
     "input": [
      "def search(raw_params):\n",
      "    params = copy.deepcopy(DEFAULT_PARAMS)\n",
      "    params.update(raw_params)\n",
      "    for key in params.keys():\n",
      "        if isinstance(params[key], list) and len(params[key]) == 1:\n",
      "            params[key] = params[key][0]\n",
      "    params['from'] = int(params['from'])\n",
      "    params['size'] = int(params['size'])\n",
      "    print params\n",
      "    query = parse_query(params)\n",
      "    query['format'] = params.get('format')\n",
      "    return query_osf(query)"
     ],
     "language": "python",
     "metadata": {},
     "outputs": [],
     "prompt_number": 12
    },
    {
     "cell_type": "code",
     "collapsed": false,
     "input": [
      "def parse_query(params):\n",
      "    if params.get('agg'):\n",
      "        return {\n",
      "            'query': build_query(\n",
      "                params.get('q'),\n",
      "                params.get('start_date'),\n",
      "                params.get('end_date'),\n",
      "                params.get('empty_field'),\n",
      "                params.get('agg')\n",
      "                \n",
      "            ),\n",
      "            'sort': build_sort(params.get('sort_field'), params.get('sort_type')),\n",
      "            'from': params.get('from'),\n",
      "            'size': params.get('size'),\n",
      "            \n",
      "        }\n",
      "    else:\n",
      "        return {\n",
      "            'query': build_query(\n",
      "                params.get('q'),\n",
      "                params.get('start_date'),\n",
      "                params.get('end_date'),\n",
      "                params.get('empty_field'),\n",
      "                params.get('agg')\n",
      "            ),\n",
      "            'sort': build_sort(params.get('sort_field'), params.get('sort_type')),\n",
      "            'from': params.get('from'),\n",
      "            'size': params.get('size')\n",
      "        }"
     ],
     "language": "python",
     "metadata": {},
     "outputs": [],
     "prompt_number": 13
    },
    {
     "cell_type": "code",
     "collapsed": false,
     "input": [
      "def build_query(q, start_date, end_date, empty_field, agg):\n",
      "    if empty_field is not None and not agg:\n",
      "        return {\n",
      "            'filtered': {\n",
      "                'query': build_query_string(q),\n",
      "                'filter': {\n",
      "                    'bool': {\n",
      "                        'must': [\n",
      "                            build_date_filter(start_date, end_date),\n",
      "                        ],\n",
      "                        'must_not' : [\n",
      "                            build_empty_filter(empty_field)\n",
      "                        ]\n",
      "                    }\n",
      "                }\n",
      "            }\n",
      "        }\n",
      "    if empty_field is not None and agg:\n",
      "        return {\n",
      "            'filtered': {\n",
      "                'query': build_query_string(q),\n",
      "                'filter': {\n",
      "                    'bool': {\n",
      "                        'must': [\n",
      "                            build_date_filter(start_date, end_date),\n",
      "                        ],\n",
      "                        'must_not' : [\n",
      "                            build_empty_filter(empty_field)\n",
      "                        ]\n",
      "                    }\n",
      "                }\n",
      "            },\n",
      "            'aggs': build_aggregation('empty_field'),\n",
      "        }\n",
      "    else:\n",
      "        return {\n",
      "            'filtered': {\n",
      "                'query': build_query_string(q),\n",
      "                'filter': build_date_filter(start_date, end_date)\n",
      "            }\n",
      "        }"
     ],
     "language": "python",
     "metadata": {},
     "outputs": [],
     "prompt_number": 14
    },
    {
     "cell_type": "code",
     "collapsed": false,
     "input": [
      "def build_query_string(q):\n",
      "    return {\n",
      "        'query_string': {\n",
      "            'default_field': '_all',\n",
      "            'query': q,\n",
      "            'analyze_wildcard': True,\n",
      "            'lenient': True  # TODO, may not want to do this\n",
      "        }\n",
      "    }"
     ],
     "language": "python",
     "metadata": {},
     "outputs": [],
     "prompt_number": 15
    },
    {
     "cell_type": "code",
     "collapsed": false,
     "input": [
      "def build_date_filter(start_date, end_date):\n",
      "    return {\n",
      "        'range': {\n",
      "            'consumeFinished': {\n",
      "                'gte': start_date,  # TODO, can be None, elasticsearch may not like it\n",
      "                'lte': end_date\n",
      "            }\n",
      "        }\n",
      "    }"
     ],
     "language": "python",
     "metadata": {},
     "outputs": [],
     "prompt_number": 16
    },
    {
     "cell_type": "code",
     "collapsed": false,
     "input": [
      "def build_empty_filter(empty_field):\n",
      "    return {\n",
      "        'exists' : {\n",
      "            'field': empty_field\n",
      "        }\n",
      "    }"
     ],
     "language": "python",
     "metadata": {},
     "outputs": [],
     "prompt_number": 17
    },
    {
     "cell_type": "code",
     "collapsed": false,
     "input": [
      "def build_sort(sort_field, sort_type):\n",
      "    print sort_field\n",
      "    return [{\n",
      "        sort_field : {\n",
      "            'order': sort_type\n",
      "        }\n",
      "    }]"
     ],
     "language": "python",
     "metadata": {},
     "outputs": [],
     "prompt_number": 18
    },
    {
     "cell_type": "markdown",
     "metadata": {},
     "source": [
      "For the aggregations section a little later..."
     ]
    },
    {
     "cell_type": "code",
     "collapsed": false,
     "input": [
      "def build_aggregation(empty_field):\n",
      "    return build_missing_aggregation(empty_field)"
     ],
     "language": "python",
     "metadata": {},
     "outputs": [],
     "prompt_number": 19
    },
    {
     "cell_type": "code",
     "collapsed": false,
     "input": [
      "def build_missing_aggregation(empty_field):\n",
      "    return {\n",
      "        \"results_with_missing_fields\": {\n",
      "            \"terms\": {\"field\": \"source\"}\n",
      "    }\n",
      "}"
     ],
     "language": "python",
     "metadata": {},
     "outputs": [],
     "prompt_number": 20
    },
    {
     "cell_type": "markdown",
     "metadata": {},
     "source": [
      "Now we can get the Total Number of results for later calculation of percentage stats"
     ]
    },
    {
     "cell_type": "code",
     "collapsed": false,
     "input": [
      "all_results = search({})"
     ],
     "language": "python",
     "metadata": {},
     "outputs": [
      {
       "output_type": "stream",
       "stream": "stdout",
       "text": [
        "{'from': 0, 'end_date': '2014-10-21', 'format': 'json', 'agg': False, 'q': '*', 'empty_field': None, 'sort_type': 'desc', 'sort_field': 'dateUpdated', 'start_date': None, 'size': 10}\n",
        "dateUpdated\n",
        "{\"sort\": [{\"dateUpdated\": {\"order\": \"desc\"}}], \"query\": {\"filtered\": {\"filter\": {\"range\": {\"consumeFinished\": {\"gte\": null, \"lte\": \"2014-10-21\"}}}, \"query\": {\"query_string\": {\"query\": \"*\", \"lenient\": true, \"default_field\": \"_all\", \"analyze_wildcard\": true}}}}, \"format\": \"json\", \"from\": 0, \"size\": 10}\n"
       ]
      },
      {
       "output_type": "stream",
       "stream": "stderr",
       "text": [
        "/Users/erin/.virtualenvs/scrapi_stats/lib/python2.7/site-packages/requests/packages/urllib3/connectionpool.py:730: InsecureRequestWarning: Unverified HTTPS request is being made. Adding certificate verification is strongly advised. See: https://urllib3.readthedocs.org/en/latest/security.html (This warning will only appear once by default.)\n",
        "  InsecureRequestWarning)\n"
       ]
      }
     ],
     "prompt_number": 21
    },
    {
     "cell_type": "code",
     "collapsed": false,
     "input": [
      "total_results = all_results['total']"
     ],
     "language": "python",
     "metadata": {},
     "outputs": [],
     "prompt_number": 22
    },
    {
     "cell_type": "code",
     "collapsed": false,
     "input": [
      "total_results"
     ],
     "language": "python",
     "metadata": {},
     "outputs": [
      {
       "metadata": {},
       "output_type": "pyout",
       "prompt_number": 23,
       "text": [
        "123713"
       ]
      }
     ],
     "prompt_number": 23
    },
    {
     "cell_type": "markdown",
     "metadata": {},
     "source": [
      "Create a large dictionary from all results"
     ]
    },
    {
     "cell_type": "markdown",
     "metadata": {},
     "source": [
      "#Building Metrics for Results with Filters"
     ]
    },
    {
     "cell_type": "markdown",
     "metadata": {},
     "source": [
      "Here are some ways we can query elasticsearch to gather some metrics, and see which fields are missing in the data we've collected so far. "
     ]
    },
    {
     "cell_type": "markdown",
     "metadata": {},
     "source": [
      "##DOI"
     ]
    },
    {
     "cell_type": "code",
     "collapsed": false,
     "input": [
      "# Find all results without a DOI\n",
      "results_no_doi = search({'empty_field': 'doi'})"
     ],
     "language": "python",
     "metadata": {},
     "outputs": [
      {
       "output_type": "stream",
       "stream": "stdout",
       "text": [
        "{'from': 0, 'end_date': '2014-10-21', 'format': 'json', 'agg': False, 'q': '*', 'empty_field': 'doi', 'sort_type': 'desc', 'sort_field': 'dateUpdated', 'start_date': None, 'size': 10}\n",
        "dateUpdated\n",
        "{\"sort\": [{\"dateUpdated\": {\"order\": \"desc\"}}], \"query\": {\"filtered\": {\"filter\": {\"bool\": {\"must_not\": [{\"exists\": {\"field\": \"doi\"}}], \"must\": [{\"range\": {\"consumeFinished\": {\"gte\": null, \"lte\": \"2014-10-21\"}}}]}}, \"query\": {\"query_string\": {\"query\": \"*\", \"lenient\": true, \"default_field\": \"_all\", \"analyze_wildcard\": true}}}}, \"format\": \"json\", \"from\": 0, \"size\": 10}\n"
       ]
      }
     ],
     "prompt_number": 24
    },
    {
     "cell_type": "code",
     "collapsed": false,
     "input": [
      "total_no_doi = results_no_doi['total']"
     ],
     "language": "python",
     "metadata": {},
     "outputs": [],
     "prompt_number": 25
    },
    {
     "cell_type": "markdown",
     "metadata": {},
     "source": [
      "####Percentage of all results with no DOI"
     ]
    },
    {
     "cell_type": "code",
     "collapsed": false,
     "input": [
      "(total_no_doi/total_results)*100"
     ],
     "language": "python",
     "metadata": {},
     "outputs": [
      {
       "metadata": {},
       "output_type": "pyout",
       "prompt_number": 26,
       "text": [
        "84.0146144705892"
       ]
      }
     ],
     "prompt_number": 26
    },
    {
     "cell_type": "markdown",
     "metadata": {},
     "source": [
      "DOI per source"
     ]
    },
    {
     "cell_type": "code",
     "collapsed": false,
     "input": [
      "source_total = search({'q': 'source:dataone'})"
     ],
     "language": "python",
     "metadata": {},
     "outputs": [
      {
       "output_type": "stream",
       "stream": "stdout",
       "text": [
        "{'from': 0, 'end_date': '2014-10-21', 'format': 'json', 'agg': False, 'q': 'source:dataone', 'empty_field': None, 'sort_type': 'desc', 'sort_field': 'dateUpdated', 'start_date': None, 'size': 10}\n",
        "dateUpdated\n",
        "{\"sort\": [{\"dateUpdated\": {\"order\": \"desc\"}}], \"query\": {\"filtered\": {\"filter\": {\"range\": {\"consumeFinished\": {\"gte\": null, \"lte\": \"2014-10-21\"}}}, \"query\": {\"query_string\": {\"query\": \"source:dataone\", \"lenient\": true, \"default_field\": \"_all\", \"analyze_wildcard\": true}}}}, \"format\": \"json\", \"from\": 0, \"size\": 10}\n"
       ]
      }
     ],
     "prompt_number": 27
    },
    {
     "cell_type": "code",
     "collapsed": false,
     "input": [
      "source_total_num = source_total['total']"
     ],
     "language": "python",
     "metadata": {},
     "outputs": [],
     "prompt_number": 28
    },
    {
     "cell_type": "code",
     "collapsed": false,
     "input": [
      "source_no_doi = search({'q': 'source:dataone', 'empty_field': 'doi'})"
     ],
     "language": "python",
     "metadata": {},
     "outputs": [
      {
       "output_type": "stream",
       "stream": "stdout",
       "text": [
        "{'from': 0, 'end_date': '2014-10-21', 'format': 'json', 'agg': False, 'q': 'source:dataone', 'empty_field': 'doi', 'sort_type': 'desc', 'sort_field': 'dateUpdated', 'start_date': None, 'size': 10}\n",
        "dateUpdated\n",
        "{\"sort\": [{\"dateUpdated\": {\"order\": \"desc\"}}], \"query\": {\"filtered\": {\"filter\": {\"bool\": {\"must_not\": [{\"exists\": {\"field\": \"doi\"}}], \"must\": [{\"range\": {\"consumeFinished\": {\"gte\": null, \"lte\": \"2014-10-21\"}}}]}}, \"query\": {\"query_string\": {\"query\": \"source:dataone\", \"lenient\": true, \"default_field\": \"_all\", \"analyze_wildcard\": true}}}}, \"format\": \"json\", \"from\": 0, \"size\": 10}\n"
       ]
      }
     ],
     "prompt_number": 29
    },
    {
     "cell_type": "code",
     "collapsed": false,
     "input": [],
     "language": "python",
     "metadata": {},
     "outputs": [],
     "prompt_number": 29
    },
    {
     "cell_type": "code",
     "collapsed": false,
     "input": [
      "source_no_doi_num = source_no_doi['total']"
     ],
     "language": "python",
     "metadata": {},
     "outputs": [],
     "prompt_number": 30
    },
    {
     "cell_type": "markdown",
     "metadata": {},
     "source": [
      "Percentage of source with no DOI"
     ]
    },
    {
     "cell_type": "code",
     "collapsed": false,
     "input": [
      "(source_total_num/source_no_doi_num)*100"
     ],
     "language": "python",
     "metadata": {},
     "outputs": [
      {
       "metadata": {},
       "output_type": "pyout",
       "prompt_number": 31,
       "text": [
        "101.74497906965807"
       ]
      }
     ],
     "prompt_number": 31
    },
    {
     "cell_type": "markdown",
     "metadata": {},
     "source": [
      "##Title"
     ]
    },
    {
     "cell_type": "code",
     "collapsed": false,
     "input": [
      "# Find all results without a title\n",
      "results_no_title = search({'empty_field': 'title'})"
     ],
     "language": "python",
     "metadata": {},
     "outputs": [
      {
       "output_type": "stream",
       "stream": "stdout",
       "text": [
        "{'from': 0, 'end_date': '2014-10-21', 'format': 'json', 'agg': False, 'q': '*', 'empty_field': 'title', 'sort_type': 'desc', 'sort_field': 'dateUpdated', 'start_date': None, 'size': 10}\n",
        "dateUpdated\n",
        "{\"sort\": [{\"dateUpdated\": {\"order\": \"desc\"}}], \"query\": {\"filtered\": {\"filter\": {\"bool\": {\"must_not\": [{\"exists\": {\"field\": \"title\"}}], \"must\": [{\"range\": {\"consumeFinished\": {\"gte\": null, \"lte\": \"2014-10-21\"}}}]}}, \"query\": {\"query_string\": {\"query\": \"*\", \"lenient\": true, \"default_field\": \"_all\", \"analyze_wildcard\": true}}}}, \"format\": \"json\", \"from\": 0, \"size\": 10}\n"
       ]
      }
     ],
     "prompt_number": 32
    },
    {
     "cell_type": "code",
     "collapsed": false,
     "input": [
      "total_no_title = results_no_title['total']"
     ],
     "language": "python",
     "metadata": {},
     "outputs": [],
     "prompt_number": 33
    },
    {
     "cell_type": "markdown",
     "metadata": {},
     "source": [
      "####Percentage of results with no Title"
     ]
    },
    {
     "cell_type": "code",
     "collapsed": false,
     "input": [
      "(total_no_title/total_results)*100"
     ],
     "language": "python",
     "metadata": {},
     "outputs": [
      {
       "metadata": {},
       "output_type": "pyout",
       "prompt_number": 34,
       "text": [
        "41.846046898870775"
       ]
      }
     ],
     "prompt_number": 34
    },
    {
     "cell_type": "code",
     "collapsed": false,
     "input": [
      "source_no_title = search({'q': 'source:dataone', 'empty_field': 'title'})"
     ],
     "language": "python",
     "metadata": {},
     "outputs": [
      {
       "output_type": "stream",
       "stream": "stdout",
       "text": [
        "{'from': 0, 'end_date': '2014-10-21', 'format': 'json', 'agg': False, 'q': 'source:dataone', 'empty_field': 'title', 'sort_type': 'desc', 'sort_field': 'dateUpdated', 'start_date': None, 'size': 10}\n",
        "dateUpdated\n",
        "{\"sort\": [{\"dateUpdated\": {\"order\": \"desc\"}}], \"query\": {\"filtered\": {\"filter\": {\"bool\": {\"must_not\": [{\"exists\": {\"field\": \"title\"}}], \"must\": [{\"range\": {\"consumeFinished\": {\"gte\": null, \"lte\": \"2014-10-21\"}}}]}}, \"query\": {\"query_string\": {\"query\": \"source:dataone\", \"lenient\": true, \"default_field\": \"_all\", \"analyze_wildcard\": true}}}}, \"format\": \"json\", \"from\": 0, \"size\": 10}\n"
       ]
      }
     ],
     "prompt_number": 35
    },
    {
     "cell_type": "code",
     "collapsed": false,
     "input": [
      "source_no_title['total']"
     ],
     "language": "python",
     "metadata": {},
     "outputs": [
      {
       "metadata": {},
       "output_type": "pyout",
       "prompt_number": 36,
       "text": [
        "51584"
       ]
      }
     ],
     "prompt_number": 36
    },
    {
     "cell_type": "markdown",
     "metadata": {},
     "source": [
      "### Filter Aggregation"
     ]
    },
    {
     "cell_type": "markdown",
     "metadata": {},
     "source": [
      "Instead of adding filters to the queries, it looks like we can instead do some aggregations instead. "
     ]
    },
    {
     "cell_type": "code",
     "collapsed": false,
     "input": [
      "agg_search = search({'q': '*', 'agg': True, 'empty_field': 'title', 'size':6000})"
     ],
     "language": "python",
     "metadata": {},
     "outputs": [
      {
       "output_type": "stream",
       "stream": "stdout",
       "text": [
        "{'from': 0, 'end_date': '2014-10-21', 'format': 'json', 'agg': True, 'q': '*', 'empty_field': 'title', 'sort_type': 'desc', 'sort_field': 'dateUpdated', 'start_date': None, 'size': 6000}\n",
        "dateUpdated\n",
        "{\"sort\": [{\"dateUpdated\": {\"order\": \"desc\"}}], \"query\": {\"filtered\": {\"filter\": {\"bool\": {\"must_not\": [{\"exists\": {\"field\": \"title\"}}], \"must\": [{\"range\": {\"consumeFinished\": {\"gte\": null, \"lte\": \"2014-10-21\"}}}]}}, \"query\": {\"query_string\": {\"query\": \"*\", \"lenient\": true, \"default_field\": \"_all\", \"analyze_wildcard\": true}}}, \"aggs\": {\"results_with_missing_fields\": {\"terms\": {\"field\": \"source\"}}}}, \"format\": \"json\", \"from\": 0, \"size\": 6000}\n"
       ]
      }
     ],
     "prompt_number": 37
    },
    {
     "cell_type": "code",
     "collapsed": false,
     "input": [
      "agg_search.keys()"
     ],
     "language": "python",
     "metadata": {},
     "outputs": [
      {
       "metadata": {},
       "output_type": "pyout",
       "prompt_number": 38,
       "text": [
        "[u'total', u'results']"
       ]
      }
     ],
     "prompt_number": 38
    },
    {
     "cell_type": "code",
     "collapsed": false,
     "input": [
      "agg_search['total']"
     ],
     "language": "python",
     "metadata": {},
     "outputs": [
      {
       "metadata": {},
       "output_type": "pyout",
       "prompt_number": 40,
       "text": [
        "0"
       ]
      }
     ],
     "prompt_number": 40
    },
    {
     "cell_type": "code",
     "collapsed": false,
     "input": [],
     "language": "python",
     "metadata": {},
     "outputs": [],
     "prompt_number": 39
    }
   ],
   "metadata": {}
  }
 ]
}