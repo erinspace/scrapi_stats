{
 "metadata": {
  "name": "",
  "signature": "sha256:ccfbfb9edb756b240237866f389f10e0375e72f5c92cbb757eca0fc40750d1de"
 },
 "nbformat": 3,
 "nbformat_minor": 0,
 "worksheets": [
  {
   "cells": [
    {
     "cell_type": "markdown",
     "metadata": {},
     "source": [
      "#SHARE Results\n",
      "----\n",
      "Here are some working examples of how to query the current scrAPI database for metrics of results coming through the SHARE Notifiation Service.  \n",
      "\n",
      "----\n"
     ]
    },
    {
     "cell_type": "markdown",
     "metadata": {},
     "source": [
      "##Setup: "
     ]
    },
    {
     "cell_type": "code",
     "collapsed": false,
     "input": [
      "import json\n",
      "import requests\n",
      "\n",
      "# Want to eventually use pandas!\n",
      "# from pandas import DataFrame, Series"
     ],
     "language": "python",
     "metadata": {},
     "outputs": [],
     "prompt_number": 26
    },
    {
     "cell_type": "code",
     "collapsed": false,
     "input": [
      "# SHARE-dev settings\n",
      "OSF_APP_URL = 'https://share-dev.osf.io/api/v1/app/6qajn/?return_raw=True'\n",
      "OSF_AUTH = ('scrapi_stats','543edf86b5e9d7579327c710eb1d94ee-d8da-472a-84bb-ba6b96499c80')"
     ],
     "language": "python",
     "metadata": {},
     "outputs": [],
     "prompt_number": 27
    },
    {
     "cell_type": "code",
     "collapsed": false,
     "input": [
      "# Local Settings\n",
      "# OSF_APP_URL = 'http://localhost:5000/api/v1/app/kb7ae/?return_raw=True'\n",
      "# OSF_AUTH = ('scrapi', '54331d5a669aec8577089ad1e4b9dcb3-50f3-4828-9232-d85512a999e7')"
     ],
     "language": "python",
     "metadata": {},
     "outputs": [],
     "prompt_number": 28
    },
    {
     "cell_type": "markdown",
     "metadata": {},
     "source": [
      "## Query Setup"
     ]
    },
    {
     "cell_type": "code",
     "collapsed": false,
     "input": [
      "def query_osf(query):\n",
      "    headers = {'Content-Type': 'application/json'}\n",
      "    data = json.dumps(query)\n",
      "    return requests.post(OSF_APP_URL, auth=OSF_AUTH, headers=headers, data=data, verify=False).json()"
     ],
     "language": "python",
     "metadata": {},
     "outputs": [],
     "prompt_number": 29
    },
    {
     "cell_type": "code",
     "collapsed": false,
     "input": [
      "def search(agg_type, field=None):\n",
      "    if agg_type == 'source':\n",
      "        query = source_aggregation_query()\n",
      "    elif agg_type == 'missing' and field is not None:\n",
      "        query = source_missing_query(field)\n",
      "    else: \n",
      "        print(\"Not a valid agg query!\")\n",
      "        return None\n",
      "    return query_osf(query)"
     ],
     "language": "python",
     "metadata": {},
     "outputs": [],
     "prompt_number": 30
    },
    {
     "cell_type": "code",
     "collapsed": false,
     "input": [
      "def source_aggregation_query():\n",
      "    return {\n",
      "        \"size\" : 0,\n",
      "        \"aggs\": {\n",
      "            \"sources\" : {\n",
      "                \"terms\" : {\"field\": \"source\"}\n",
      "            }\n",
      "        }\n",
      "    }"
     ],
     "language": "python",
     "metadata": {},
     "outputs": [],
     "prompt_number": 31
    },
    {
     "cell_type": "code",
     "collapsed": false,
     "input": [
      "def source_missing_query(missing_field):\n",
      "    return {\n",
      "        \"size\": 0,\n",
      "                \"aggs\": {\n",
      "            \"sourceAggregation\": {\n",
      "                \"filter\" : {\n",
      "                    \"missing\" : {\"field\" : missing_field}\n",
      "                },\n",
      "\n",
      "                \"aggs\" : {\n",
      "                    \"sources\" : {\n",
      "                        \"terms\" : {\"field\": \"source\"}\n",
      "                    }\n",
      "                }\n",
      "            }\n",
      "\n",
      "        }\n",
      "    }\n"
     ],
     "language": "python",
     "metadata": {},
     "outputs": [],
     "prompt_number": 32
    },
    {
     "cell_type": "markdown",
     "metadata": {},
     "source": [
      "###Get a list of fields per source"
     ]
    },
    {
     "cell_type": "code",
     "collapsed": false,
     "input": [
      "source_statistics = search(agg_type='source')"
     ],
     "language": "python",
     "metadata": {},
     "outputs": [
      {
       "output_type": "stream",
       "stream": "stderr",
       "text": [
        "/Users/erin/.virtualenvs/scrapi_stats/lib/python2.7/site-packages/requests/packages/urllib3/connectionpool.py:730: InsecureRequestWarning: Unverified HTTPS request is being made. Adding certificate verification is strongly advised. See: https://urllib3.readthedocs.org/en/latest/security.html (This warning will only appear once by default.)\n",
        "  InsecureRequestWarning)\n"
       ]
      }
     ],
     "prompt_number": 33
    },
    {
     "cell_type": "code",
     "collapsed": false,
     "input": [
      "print(json.dumps(source_statistics['aggregations'], indent=4))"
     ],
     "language": "python",
     "metadata": {},
     "outputs": [
      {
       "output_type": "stream",
       "stream": "stdout",
       "text": [
        "{\n",
        "    \"sources\": {\n",
        "        \"buckets\": [\n",
        "            {\n",
        "                \"key\": \"dataone\", \n",
        "                \"doc_count\": 66562\n",
        "            }, \n",
        "            {\n",
        "                \"key\": \"crossref\", \n",
        "                \"doc_count\": 13505\n",
        "            }, \n",
        "            {\n",
        "                \"key\": \"arxiv_oai\", \n",
        "                \"doc_count\": 12727\n",
        "            }, \n",
        "            {\n",
        "                \"key\": \"scitech\", \n",
        "                \"doc_count\": 3663\n",
        "            }, \n",
        "            {\n",
        "                \"key\": \"clinicaltrials\", \n",
        "                \"doc_count\": 2693\n",
        "            }, \n",
        "            {\n",
        "                \"key\": \"plos\", \n",
        "                \"doc_count\": 2417\n",
        "            }, \n",
        "            {\n",
        "                \"key\": \"uwdspace\", \n",
        "                \"doc_count\": 1760\n",
        "            }, \n",
        "            {\n",
        "                \"key\": \"mit\", \n",
        "                \"doc_count\": 743\n",
        "            }, \n",
        "            {\n",
        "                \"key\": \"calpoly\", \n",
        "                \"doc_count\": 204\n",
        "            }, \n",
        "            {\n",
        "                \"key\": \"uceschol\", \n",
        "                \"doc_count\": 181\n",
        "            }\n",
        "        ]\n",
        "    }\n",
        "}\n"
       ]
      }
     ],
     "prompt_number": 34
    },
    {
     "cell_type": "markdown",
     "metadata": {},
     "source": [
      "###Get a list of number of missing fields per source"
     ]
    },
    {
     "cell_type": "code",
     "collapsed": false,
     "input": [
      "missing_by_field = search('missing', field='title')"
     ],
     "language": "python",
     "metadata": {},
     "outputs": [],
     "prompt_number": 35
    },
    {
     "cell_type": "code",
     "collapsed": false,
     "input": [
      "missing_by_field"
     ],
     "language": "python",
     "metadata": {},
     "outputs": [
      {
       "metadata": {},
       "output_type": "pyout",
       "prompt_number": 36,
       "text": [
        "{u'_shards': {u'failed': 0, u'successful': 5, u'total': 5},\n",
        " u'aggregations': {u'sourceAggregation': {u'doc_count': 51776,\n",
        "   u'sources': {u'buckets': [{u'doc_count': 51584, u'key': u'dataone'},\n",
        "     {u'doc_count': 82, u'key': u'crossref'},\n",
        "     {u'doc_count': 1, u'key': u'uceschol'}]}}},\n",
        " u'hits': {u'hits': [], u'max_score': 0.0, u'total': 135843},\n",
        " u'timed_out': False,\n",
        " u'took': 5}"
       ]
      }
     ],
     "prompt_number": 36
    },
    {
     "cell_type": "code",
     "collapsed": false,
     "input": [
      "print(json.dumps(missing_by_field['aggregations'], indent=4))"
     ],
     "language": "python",
     "metadata": {},
     "outputs": [
      {
       "output_type": "stream",
       "stream": "stdout",
       "text": [
        "{\n",
        "    \"sourceAggregation\": {\n",
        "        \"sources\": {\n",
        "            \"buckets\": [\n",
        "                {\n",
        "                    \"key\": \"dataone\", \n",
        "                    \"doc_count\": 51584\n",
        "                }, \n",
        "                {\n",
        "                    \"key\": \"crossref\", \n",
        "                    \"doc_count\": 82\n",
        "                }, \n",
        "                {\n",
        "                    \"key\": \"uceschol\", \n",
        "                    \"doc_count\": 1\n",
        "                }\n",
        "            ]\n",
        "        }, \n",
        "        \"doc_count\": 51776\n",
        "    }\n",
        "}\n"
       ]
      }
     ],
     "prompt_number": 37
    },
    {
     "cell_type": "code",
     "collapsed": false,
     "input": [],
     "language": "python",
     "metadata": {},
     "outputs": [],
     "prompt_number": 37
    }
   ],
   "metadata": {}
  }
 ]
}