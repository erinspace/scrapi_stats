{
 "metadata": {
  "name": "",
  "signature": "sha256:da210282f966c65826e096cca8532e934de5a32cc796da3c0131d3c0bd8e7d45"
 },
 "nbformat": 3,
 "nbformat_minor": 0,
 "worksheets": [
  {
   "cells": [
    {
     "cell_type": "markdown",
     "metadata": {},
     "source": [
      "#SHARE Results\n",
      "----\n",
      "Here are some working examples of how to query the current scrAPI database for metrics of results coming through the SHARE Notifiation Service.\n",
      "\n",
      "These particular queries are just examples, and the data is open for anyone to use, so feel free to make your own and experiment!\n",
      "\n",
      "----\n"
     ]
    },
    {
     "cell_type": "markdown",
     "metadata": {},
     "source": [
      "### Service Names for Reference\n",
      "----\n",
      "Each provider harvested from uses a shortened name for its source. Here's a guide to which short names refer to which services\n"
     ]
    },
    {
     "cell_type": "markdown",
     "metadata": {},
     "source": [
      "<table>\n",
      "    <tr>\n",
      "        <td> arxiv_oai </td>\n",
      "        <td> ArXiv </td>\n",
      "    </tr>\n",
      "    <tr>\n",
      "        <td> calpoly </td>\n",
      "        <td> Digital Commons at Cal Poly </td>\n",
      "    </tr>\n",
      "    <tr>\n",
      "        <td> clinicaltrials </td>\n",
      "        <td> ClinicalTrials.gov </td>\n",
      "    </tr>    \n",
      "    <tr>\n",
      "        <td> crossref </td>\n",
      "        <td> CrossRef </td>\n",
      "    </tr>\n",
      "    <tr>\n",
      "        <td> doepages </td>\n",
      "        <td> Department of Energy Pages </td>\n",
      "    </tr>\n",
      "\n",
      "    <tr>\n",
      "        <td> cmu </td>\n",
      "        <td> Carnegie Mellon University Research Showcase </td>\n",
      "    </tr>\n",
      "    <tr>\n",
      "        <td> columbia  </td>\n",
      "        <td> Columbia Adacemic Commons </td>\n",
      "    </tr>\n",
      "    <tr>\n",
      "        <td> dataone </td>\n",
      "        <td> DataONE: Data Observation Network for Earth </td>\n",
      "    </tr>\n",
      "    <tr>\n",
      "        <td> mit </td>\n",
      "        <td> DSpace@MIT </td>\n",
      "    </tr>\n",
      "    <tr>\n",
      "        <td> opensiuc </td>\n",
      "        <td> OpenSIUC at the Southern Illinois University Carbondale </td>\n",
      "    </tr>\n",
      "    <tr>\n",
      "        <td> plos </td>\n",
      "        <td> Public Library Of Science </td>\n",
      "    </tr>\n",
      "    <tr>\n",
      "        <td> scitech </td>\n",
      "        <td> SciTech Connect </td>\n",
      "    </tr>\n",
      "    <tr>\n",
      "        <td> stcloud </td>\n",
      "        <td> theRepository at St. Cloud State </td>\n",
      "    </tr>\n",
      "    <tr>\n",
      "        <td> uceschol </td>\n",
      "        <td> California Digital Library eScholarship System </td>\n",
      "    </tr>\n",
      "    <tr>\n",
      "        <td> uiucideals </td>\n",
      "        <td> University of Illinois at Urbana-Champaign Illinois Digital Enviornment for Access to Learning and Scholarship </td>\n",
      "    </tr>\n",
      "    <tr>\n",
      "        <td> upenn </td>\n",
      "        <td> University of Pennsylvania Scholarly Commons </td>\n",
      "    </tr>\n",
      "    <tr>\n",
      "        <td> utaustin </td>\n",
      "        <td> University of Texas Digital Repository </td>\n",
      "    </tr>\n",
      "    <tr>\n",
      "        <td> uwdspace </td>\n",
      "        <td> ResearchWorks at the University of Washington </td>\n",
      "    </tr>\n",
      "    <tr>\n",
      "        <td> vtechworks </td>\n",
      "        <td> Virginia Tech VTechWorks </td>\n",
      "    </tr>\n",
      "    <tr>\n",
      "        <td> wayne </td>\n",
      "        <td> DigitalCommons@WayneState </td>\n",
      "    </tr>\n",
      "    \n",
      "</table>"
     ]
    },
    {
     "cell_type": "markdown",
     "metadata": {},
     "source": [
      "##Setup: "
     ]
    },
    {
     "cell_type": "code",
     "collapsed": false,
     "input": [
      "import json\n",
      "import requests\n",
      "\n",
      "import numpy as np\n",
      "import matplotlib.pyplot as plt\n",
      "\n",
      "%matplotlib inline"
     ],
     "language": "python",
     "metadata": {},
     "outputs": [],
     "prompt_number": 37
    },
    {
     "cell_type": "code",
     "collapsed": false,
     "input": [
      "# SHARE-dev settings\n",
      "OSF_APP_URL = 'https://share-dev.osf.io/api/v1/app/6qajn/?raw=True'"
     ],
     "language": "python",
     "metadata": {},
     "outputs": [],
     "prompt_number": 38
    },
    {
     "cell_type": "code",
     "collapsed": false,
     "input": [
      "# Localhost settings - for testing\n",
      "# OSF_APP_URL = 'http://localhost:5000/api/v1/app/kb7ae/?return_raw=True'"
     ],
     "language": "python",
     "metadata": {},
     "outputs": [],
     "prompt_number": 39
    },
    {
     "cell_type": "markdown",
     "metadata": {},
     "source": [
      "## Query Setup"
     ]
    },
    {
     "cell_type": "code",
     "collapsed": false,
     "input": [
      "def query_osf(query):\n",
      "    headers = {'Content-Type': 'application/json'}\n",
      "    data = json.dumps(query)\n",
      "    return requests.post(OSF_APP_URL, headers=headers, data=data, verify=False).json()"
     ],
     "language": "python",
     "metadata": {},
     "outputs": [],
     "prompt_number": 40
    },
    {
     "cell_type": "code",
     "collapsed": false,
     "input": [
      "def search(agg_type, field=None, all_results=True, exclude_terms=False):\n",
      "    if agg_type == 'field':\n",
      "        query = field_aggregation_query(field, all_results)\n",
      "    elif agg_type == 'missing':\n",
      "        query = source_missing_query(field)\n",
      "    elif agg_type == 'common_properties':\n",
      "        query = common_properties_query(field)\n",
      "    else: \n",
      "        print(\"Not a valid agg query!\")\n",
      "        return None\n",
      "    return query_osf(query)"
     ],
     "language": "python",
     "metadata": {},
     "outputs": [],
     "prompt_number": 41
    },
    {
     "cell_type": "code",
     "collapsed": false,
     "input": [
      "def field_aggregation_query(field, all_results):\n",
      "    ''' Use this basic aggregation query to find all\n",
      "    of the results from a particular field. Perhaps\n",
      "    best used for sources or tag counts '''\n",
      "    \n",
      "    return {\n",
      "        \"size\" : 0,\n",
      "        \"aggs\": {\n",
      "            \"sources\" : {\n",
      "                \"terms\" : {\n",
      "                    \"field\": field, \n",
      "                    \"size\" : return_all(all_results),\n",
      "                    \"exclude\" : \"of|and|or\"\n",
      "                }\n",
      "            }\n",
      "        }\n",
      "    }"
     ],
     "language": "python",
     "metadata": {},
     "outputs": [],
     "prompt_number": 42
    },
    {
     "cell_type": "code",
     "collapsed": false,
     "input": [
      "def source_missing_query(missing_field):\n",
      "    ''' Use this query to find how many documents from \n",
      "    a particular source are missing an entry for any field '''\n",
      "    \n",
      "    return {\n",
      "        \"size\": 0,\n",
      "            \"aggs\": {\n",
      "            \"sourceAggregation\": {\n",
      "                \"filter\" : {\n",
      "                    \"missing\" : {\"field\" : missing_field}\n",
      "                },\n",
      "                \"aggs\" : {\n",
      "                    \"sources\" : {\n",
      "                        \"terms\" : {\n",
      "                            \"field\": \"source\",\n",
      "                            \"size\": 0\n",
      "                        }\n",
      "                    }\n",
      "                }\n",
      "            }\n",
      "        }\n",
      "    }"
     ],
     "language": "python",
     "metadata": {},
     "outputs": [],
     "prompt_number": 43
    },
    {
     "cell_type": "code",
     "collapsed": false,
     "input": [
      "def common_properties_query(field):\n",
      "    ''' This is totally wrong - try again with examples\n",
      "    from: https://github.com/elasticsearch/elasticsearch/issues/5789\n",
      "    and http://www.elasticsearch.org/guide/en/elasticsearch/reference/current/\n",
      "    mapping-field-names-field.html#mapping-field-names-field\n",
      "    '''\n",
      "    return {\n",
      "        \"size\": 0,\n",
      "        \"query\": {\n",
      "            \"terms\": {\n",
      "                \"field\": \"_field_names\"\n",
      "            }\n",
      "        }\n",
      "    }"
     ],
     "language": "python",
     "metadata": {},
     "outputs": [],
     "prompt_number": 44
    },
    {
     "cell_type": "code",
     "collapsed": false,
     "input": [
      "# search('common_properties')"
     ],
     "language": "python",
     "metadata": {},
     "outputs": [],
     "prompt_number": 45
    },
    {
     "cell_type": "code",
     "collapsed": false,
     "input": [
      "def return_all(all_results):\n",
      "    ''' used to determine if you want \n",
      "    to show all of the results, or just \n",
      "    the top 10 '''\n",
      "    \n",
      "    if all_results:\n",
      "        return 0\n",
      "    else:\n",
      "        return 10\n",
      "    "
     ],
     "language": "python",
     "metadata": {},
     "outputs": [],
     "prompt_number": 46
    },
    {
     "cell_type": "markdown",
     "metadata": {},
     "source": [
      "## Query Cleanup"
     ]
    },
    {
     "cell_type": "code",
     "collapsed": false,
     "input": [
      "def full_results_to_list(full_elastic_results):\n",
      "    ''' takes the raw elastic search results, and \n",
      "    returns a simplified version with just a list of \n",
      "    all the doc counts and their values '''\n",
      "    \n",
      "    try:\n",
      "        return full_elastic_results['aggregations']['sources']['buckets']\n",
      "    except KeyError:\n",
      "        return full_elastic_results['aggregations']['sourceAggregation']['sources']['buckets']"
     ],
     "language": "python",
     "metadata": {},
     "outputs": [],
     "prompt_number": 47
    },
    {
     "cell_type": "code",
     "collapsed": false,
     "input": [
      "def extract_values_and_labels(elastic_results):\n",
      "    ''' Takes a list of dictionaries of the results of\n",
      "    an elasticsearch aggregation, and converts them into\n",
      "    two lists - of values, and labels - to be used in \n",
      "    plotting later.\n",
      "    \n",
      "    Returns a dictionary with the lists of values and labels\n",
      "    '''\n",
      "    labels = []\n",
      "    values = []\n",
      "    for item in elastic_results:\n",
      "        labels.append(item['key'])\n",
      "        values.append(item['doc_count'])\n",
      "    \n",
      "    return {'values': values, 'labels':labels}"
     ],
     "language": "python",
     "metadata": {},
     "outputs": [],
     "prompt_number": 48
    },
    {
     "cell_type": "markdown",
     "metadata": {},
     "source": [
      "## Functions for Making Graphs!"
     ]
    },
    {
     "cell_type": "code",
     "collapsed": false,
     "input": [
      "def create_bar_graph(elastic_results,  x_label, title, field_for_title=''):\n",
      "    ''' takes a list of elastic results, and \n",
      "    returns a bar graph of the doc counts'''\n",
      "    \n",
      "    values_labels = extract_values_and_labels(elastic_results)\n",
      "    values = values_labels['values']\n",
      "    labels = values_labels['labels']\n",
      "    \n",
      "    length = len(values)\n",
      "    index = np.arange(len(values))\n",
      "    width = 0.35 \n",
      "    \n",
      "    bar = plt.bar(index, values)\n",
      "    \n",
      "    plt.xticks(index+width/2, labels, rotation='vertical')\n",
      "    plt.xlabel(x_label)\n",
      "    plt.ylabel('Document Count')\n",
      "    plt.title(title + field_for_title)"
     ],
     "language": "python",
     "metadata": {},
     "outputs": [],
     "prompt_number": 49
    },
    {
     "cell_type": "code",
     "collapsed": false,
     "input": [
      "def create_pie_chart(elastic_results, title, field_for_title=''):\n",
      "    ''' takes a list of elastic results, and \n",
      "    returns a bar graph of the doc counts.\n",
      "    Looks very messy at the moment - need to fix labels'''\n",
      "    \n",
      "    values_labels = extract_values_and_labels(elastic_results)\n",
      "    values = values_labels['values']\n",
      "    labels = values_labels['labels']\n",
      "    \n",
      "    pie = plt.pie(values, labels=labels)\n",
      "    plt.title(title + field_for_title)"
     ],
     "language": "python",
     "metadata": {},
     "outputs": [],
     "prompt_number": 50
    },
    {
     "cell_type": "markdown",
     "metadata": {},
     "source": [
      "## Exploring the SHARE Data"
     ]
    },
    {
     "cell_type": "markdown",
     "metadata": {},
     "source": [
      "###Documents per source\n",
      "----\n",
      "Here are some examples of how to use the above queries to get the number of documents returned by each source"
     ]
    },
    {
     "cell_type": "code",
     "collapsed": false,
     "input": [
      "source_stats_search = search(agg_type='field', field='source')"
     ],
     "language": "python",
     "metadata": {},
     "outputs": [],
     "prompt_number": 51
    },
    {
     "cell_type": "code",
     "collapsed": false,
     "input": [
      "source_stats_search"
     ],
     "language": "python",
     "metadata": {},
     "outputs": [
      {
       "metadata": {},
       "output_type": "pyout",
       "prompt_number": 52,
       "text": [
        "{u'_shards': {u'failed': 0, u'successful': 5, u'total': 5},\n",
        " u'aggregations': {u'sources': {u'buckets': [{u'doc_count': 15986,\n",
        "     u'key': u'crossref'},\n",
        "    {u'doc_count': 15745, u'key': u'arxiv_oai'},\n",
        "    {u'doc_count': 15208, u'key': u'dataone'},\n",
        "    {u'doc_count': 8755, u'key': u'scitech'},\n",
        "    {u'doc_count': 3568, u'key': u'clinicaltrials'},\n",
        "    {u'doc_count': 2810, u'key': u'plos'},\n",
        "    {u'doc_count': 1834, u'key': u'uwdspace'},\n",
        "    {u'doc_count': 845, u'key': u'mit'},\n",
        "    {u'doc_count': 332, u'key': u'uceschol'},\n",
        "    {u'doc_count': 281, u'key': u'vtechworks'},\n",
        "    {u'doc_count': 274, u'key': u'upenn'},\n",
        "    {u'doc_count': 245, u'key': u'calpoly'},\n",
        "    {u'doc_count': 208, u'key': u'opensiuc'},\n",
        "    {u'doc_count': 161, u'key': u'columbia'},\n",
        "    {u'doc_count': 123, u'key': u'wayne'},\n",
        "    {u'doc_count': 42, u'key': u'cmu'},\n",
        "    {u'doc_count': 27, u'key': u'doepages'},\n",
        "    {u'doc_count': 1, u'key': u'utaustin'}]}},\n",
        " u'hits': {u'hits': [], u'max_score': 0.0, u'total': 105831},\n",
        " u'timed_out': False,\n",
        " u'took': 8}"
       ]
      }
     ],
     "prompt_number": 52
    },
    {
     "cell_type": "code",
     "collapsed": false,
     "input": [
      "source_statistics = full_results_to_list(source_stats_search)"
     ],
     "language": "python",
     "metadata": {},
     "outputs": [],
     "prompt_number": 53
    },
    {
     "cell_type": "code",
     "collapsed": false,
     "input": [
      "print(json.dumps(source_statistics, indent=4))"
     ],
     "language": "python",
     "metadata": {},
     "outputs": [
      {
       "output_type": "stream",
       "stream": "stdout",
       "text": [
        "[\n",
        "    {\n",
        "        \"key\": \"crossref\", \n",
        "        \"doc_count\": 15986\n",
        "    }, \n",
        "    {\n",
        "        \"key\": \"arxiv_oai\", \n",
        "        \"doc_count\": 15745\n",
        "    }, \n",
        "    {\n",
        "        \"key\": \"dataone\", \n",
        "        \"doc_count\": 15208\n",
        "    }, \n",
        "    {\n",
        "        \"key\": \"scitech\", \n",
        "        \"doc_count\": 8755\n",
        "    }, \n",
        "    {\n",
        "        \"key\": \"clinicaltrials\", \n",
        "        \"doc_count\": 3568\n",
        "    }, \n",
        "    {\n",
        "        \"key\": \"plos\", \n",
        "        \"doc_count\": 2810\n",
        "    }, \n",
        "    {\n",
        "        \"key\": \"uwdspace\", \n",
        "        \"doc_count\": 1834\n",
        "    }, \n",
        "    {\n",
        "        \"key\": \"mit\", \n",
        "        \"doc_count\": 845\n",
        "    }, \n",
        "    {\n",
        "        \"key\": \"uceschol\", \n",
        "        \"doc_count\": 332\n",
        "    }, \n",
        "    {\n",
        "        \"key\": \"vtechworks\", \n",
        "        \"doc_count\": 281\n",
        "    }, \n",
        "    {\n",
        "        \"key\": \"upenn\", \n",
        "        \"doc_count\": 274\n",
        "    }, \n",
        "    {\n",
        "        \"key\": \"calpoly\", \n",
        "        \"doc_count\": 245\n",
        "    }, \n",
        "    {\n",
        "        \"key\": \"opensiuc\", \n",
        "        \"doc_count\": 208\n",
        "    }, \n",
        "    {\n",
        "        \"key\": \"columbia\", \n",
        "        \"doc_count\": 161\n",
        "    }, \n",
        "    {\n",
        "        \"key\": \"wayne\", \n",
        "        \"doc_count\": 123\n",
        "    }, \n",
        "    {\n",
        "        \"key\": \"cmu\", \n",
        "        \"doc_count\": 42\n",
        "    }, \n",
        "    {\n",
        "        \"key\": \"doepages\", \n",
        "        \"doc_count\": 27\n",
        "    }, \n",
        "    {\n",
        "        \"key\": \"utaustin\", \n",
        "        \"doc_count\": 1\n",
        "    }\n",
        "]\n"
       ]
      }
     ],
     "prompt_number": 54
    },
    {
     "cell_type": "code",
     "collapsed": false,
     "input": [
      "create_bar_graph(source_statistics, title=\"Documents Per Source\", x_label='Source')"
     ],
     "language": "python",
     "metadata": {},
     "outputs": [
      {
       "metadata": {},
       "output_type": "display_data",
       "png": "[encoded data removed]",
       "text": [
        "<matplotlib.figure.Figure at 0x1134d4e90>"
       ]
      }
     ],
     "prompt_number": 55
    },
    {
     "cell_type": "code",
     "collapsed": false,
     "input": [
      "''' The labels on this need some serious fixing!!\n",
      "'''\n",
      "\n",
      "create_pie_chart(source_statistics, \"Documents Per Source\")"
     ],
     "language": "python",
     "metadata": {},
     "outputs": [
      {
       "metadata": {},
       "output_type": "display_data",
       "png": "[encoded data removed]",
       "text": [
        "<matplotlib.figure.Figure at 0x1135e2790>"
       ]
      }
     ],
     "prompt_number": 56
    },
    {
     "cell_type": "markdown",
     "metadata": {},
     "source": [
      "### Number of missing fields per source\n",
      "----\n",
      "These queries will find the sources that are missing a certain field. \n",
      "The two examples we'll give here are title and email "
     ]
    },
    {
     "cell_type": "code",
     "collapsed": false,
     "input": [
      "missing_by_title_search = search('missing', field='doi')"
     ],
     "language": "python",
     "metadata": {},
     "outputs": [],
     "prompt_number": 72
    },
    {
     "cell_type": "code",
     "collapsed": false,
     "input": [
      "missing_by_title = full_results_to_list(missing_by_title_search)"
     ],
     "language": "python",
     "metadata": {},
     "outputs": [],
     "prompt_number": 73
    },
    {
     "cell_type": "code",
     "collapsed": false,
     "input": [
      "print(json.dumps(missing_by_title, indent=4))"
     ],
     "language": "python",
     "metadata": {},
     "outputs": [
      {
       "output_type": "stream",
       "stream": "stdout",
       "text": [
        "[\n",
        "    {\n",
        "        \"key\": \"dataone\", \n",
        "        \"doc_count\": 14499\n",
        "    }, \n",
        "    {\n",
        "        \"key\": \"arxiv_oai\", \n",
        "        \"doc_count\": 12021\n",
        "    }, \n",
        "    {\n",
        "        \"key\": \"clinicaltrials\", \n",
        "        \"doc_count\": 3568\n",
        "    }, \n",
        "    {\n",
        "        \"key\": \"uwdspace\", \n",
        "        \"doc_count\": 1834\n",
        "    }, \n",
        "    {\n",
        "        \"key\": \"scitech\", \n",
        "        \"doc_count\": 1815\n",
        "    }, \n",
        "    {\n",
        "        \"key\": \"mit\", \n",
        "        \"doc_count\": 441\n",
        "    }, \n",
        "    {\n",
        "        \"key\": \"uceschol\", \n",
        "        \"doc_count\": 293\n",
        "    }, \n",
        "    {\n",
        "        \"key\": \"vtechworks\", \n",
        "        \"doc_count\": 279\n",
        "    }, \n",
        "    {\n",
        "        \"key\": \"upenn\", \n",
        "        \"doc_count\": 274\n",
        "    }, \n",
        "    {\n",
        "        \"key\": \"calpoly\", \n",
        "        \"doc_count\": 245\n",
        "    }, \n",
        "    {\n",
        "        \"key\": \"opensiuc\", \n",
        "        \"doc_count\": 208\n",
        "    }, \n",
        "    {\n",
        "        \"key\": \"wayne\", \n",
        "        \"doc_count\": 123\n",
        "    }, \n",
        "    {\n",
        "        \"key\": \"cmu\", \n",
        "        \"doc_count\": 25\n",
        "    }, \n",
        "    {\n",
        "        \"key\": \"utaustin\", \n",
        "        \"doc_count\": 1\n",
        "    }\n",
        "]\n"
       ]
      }
     ],
     "prompt_number": 74
    },
    {
     "cell_type": "code",
     "collapsed": false,
     "input": [
      "create_bar_graph(missing_by_title, title=\"Documents Missing the Field: \", field_for_title='DOI', x_label=\"Source\")"
     ],
     "language": "python",
     "metadata": {},
     "outputs": [
      {
       "metadata": {},
       "output_type": "display_data",
       "png": "[encoded data removed]",
       "text": [
        "<matplotlib.figure.Figure at 0x1134ad090>"
       ]
      }
     ],
     "prompt_number": 76
    },
    {
     "cell_type": "code",
     "collapsed": false,
     "input": [
      "missing_by_email_search = search('missing', field='email')"
     ],
     "language": "python",
     "metadata": {},
     "outputs": [],
     "prompt_number": 61
    },
    {
     "cell_type": "code",
     "collapsed": false,
     "input": [
      "missing_by_email = full_results_to_list(missing_by_email_search)"
     ],
     "language": "python",
     "metadata": {},
     "outputs": [],
     "prompt_number": 62
    },
    {
     "cell_type": "code",
     "collapsed": false,
     "input": [
      "# print(json.dumps(missing_by_email, indent=4))"
     ],
     "language": "python",
     "metadata": {},
     "outputs": [],
     "prompt_number": 63
    },
    {
     "cell_type": "code",
     "collapsed": false,
     "input": [
      "create_bar_graph(missing_by_email, title=\"Documents Missing the Field: \", field_for_title='Email', x_label=\"Source\")"
     ],
     "language": "python",
     "metadata": {},
     "outputs": [
      {
       "metadata": {},
       "output_type": "display_data",
       "png": "[encoded data removed]",
       "text": [
        "<matplotlib.figure.Figure at 0x1133899d0>"
       ]
      }
     ],
     "prompt_number": 64
    },
    {
     "cell_type": "markdown",
     "metadata": {},
     "source": [
      "##Most Popular Tags in the dataset"
     ]
    },
    {
     "cell_type": "code",
     "collapsed": false,
     "input": [
      "top_tags_search = search(agg_type='field', field='tags', all_results=False)"
     ],
     "language": "python",
     "metadata": {},
     "outputs": [],
     "prompt_number": 65
    },
    {
     "cell_type": "code",
     "collapsed": false,
     "input": [
      "top_tags = full_results_to_list(top_tags_search)"
     ],
     "language": "python",
     "metadata": {},
     "outputs": [],
     "prompt_number": 66
    },
    {
     "cell_type": "code",
     "collapsed": false,
     "input": [
      "# print(json.dumps(top_tags, indent=4))"
     ],
     "language": "python",
     "metadata": {},
     "outputs": [],
     "prompt_number": 67
    },
    {
     "cell_type": "code",
     "collapsed": false,
     "input": [
      "create_bar_graph(top_tags, title=\"Most Frequent Tags\", x_label=\"Tag\")"
     ],
     "language": "python",
     "metadata": {},
     "outputs": [
      {
       "metadata": {},
       "output_type": "display_data",
       "png": "[encoded data removed]",
       "text": [
        "<matplotlib.figure.Figure at 0x113389310>"
       ]
      }
     ],
     "prompt_number": 68
    },
    {
     "cell_type": "markdown",
     "metadata": {},
     "source": [
      "## Testing Area"
     ]
    },
    {
     "cell_type": "markdown",
     "metadata": {},
     "source": [
      "Testing out getting intersection of properties across all documents"
     ]
    },
    {
     "cell_type": "code",
     "collapsed": false,
     "input": [
      "# search('common_properties')"
     ],
     "language": "python",
     "metadata": {},
     "outputs": [],
     "prompt_number": 69
    },
    {
     "cell_type": "code",
     "collapsed": false,
     "input": [],
     "language": "python",
     "metadata": {},
     "outputs": [],
     "prompt_number": 69
    },
    {
     "cell_type": "code",
     "collapsed": false,
     "input": [
      "# map = requests.get('http://localhost:9200/metadata/_mapping/field/properties')"
     ],
     "language": "python",
     "metadata": {},
     "outputs": [],
     "prompt_number": 70
    },
    {
     "cell_type": "code",
     "collapsed": false,
     "input": [
      "# map.text"
     ],
     "language": "python",
     "metadata": {},
     "outputs": [],
     "prompt_number": 71
    },
    {
     "cell_type": "code",
     "collapsed": false,
     "input": [],
     "language": "python",
     "metadata": {},
     "outputs": [],
     "prompt_number": 71
    }
   ],
   "metadata": {}
  }
 ]
}